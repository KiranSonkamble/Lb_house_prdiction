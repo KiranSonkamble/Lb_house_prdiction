{
 "cells": [
  {
   "cell_type": "markdown",
   "metadata": {},
   "source": [
    "## Bengaluru House Price Predictive Model\n"
   ]
  },
  {
   "cell_type": "code",
   "execution_count": 1,
   "metadata": {},
   "outputs": [],
   "source": [
    "# Import all the neccessary  libraries\n",
    "import pandas as pd\n",
    "import numpy as np\n",
    "import seaborn as sns\n",
    "import matplotlib.pyplot as plt\n",
    "%matplotlib inline\n",
    "\n",
    "import warnings \n",
    "warnings.filterwarnings(\"ignore\")\n",
    "\n",
    "\n",
    "from sklearn.metrics import r2_score, mean_absolute_error,mean_squared_error\n"
   ]
  },
  {
   "cell_type": "markdown",
   "metadata": {},
   "source": [
    "## Read the data from the csv file"
   ]
  },
  {
   "cell_type": "code",
   "execution_count": 2,
   "metadata": {},
   "outputs": [
    {
     "data": {
      "text/html": [
       "<div>\n",
       "<style scoped>\n",
       "    .dataframe tbody tr th:only-of-type {\n",
       "        vertical-align: middle;\n",
       "    }\n",
       "\n",
       "    .dataframe tbody tr th {\n",
       "        vertical-align: top;\n",
       "    }\n",
       "\n",
       "    .dataframe thead th {\n",
       "        text-align: right;\n",
       "    }\n",
       "</style>\n",
       "<table border=\"1\" class=\"dataframe\">\n",
       "  <thead>\n",
       "    <tr style=\"text-align: right;\">\n",
       "      <th></th>\n",
       "      <th>area_type</th>\n",
       "      <th>availability</th>\n",
       "      <th>location</th>\n",
       "      <th>size</th>\n",
       "      <th>society</th>\n",
       "      <th>total_sqft</th>\n",
       "      <th>bath</th>\n",
       "      <th>balcony</th>\n",
       "      <th>price</th>\n",
       "      <th>Unnamed: 9</th>\n",
       "      <th>Unnamed: 10</th>\n",
       "      <th>Unnamed: 11</th>\n",
       "      <th>Unnamed: 12</th>\n",
       "    </tr>\n",
       "  </thead>\n",
       "  <tbody>\n",
       "    <tr>\n",
       "      <th>0</th>\n",
       "      <td>Super built-up  Area</td>\n",
       "      <td>19-Dec</td>\n",
       "      <td>Electronic City Phase II</td>\n",
       "      <td>2 BHK</td>\n",
       "      <td>Coomee</td>\n",
       "      <td>1056</td>\n",
       "      <td>2.0</td>\n",
       "      <td>1.0</td>\n",
       "      <td>$39.07</td>\n",
       "      <td>NaN</td>\n",
       "      <td>NaN</td>\n",
       "      <td>NaN</td>\n",
       "      <td>NaN</td>\n",
       "    </tr>\n",
       "    <tr>\n",
       "      <th>1</th>\n",
       "      <td>Plot  Area</td>\n",
       "      <td>Ready To Move</td>\n",
       "      <td>Chikka Tirupathi</td>\n",
       "      <td>4 Bedroom</td>\n",
       "      <td>Theanmp</td>\n",
       "      <td>2600</td>\n",
       "      <td>5.0</td>\n",
       "      <td>3.0</td>\n",
       "      <td>$120.00</td>\n",
       "      <td>NaN</td>\n",
       "      <td>NaN</td>\n",
       "      <td>NaN</td>\n",
       "      <td>NaN</td>\n",
       "    </tr>\n",
       "    <tr>\n",
       "      <th>2</th>\n",
       "      <td>Built-up  Area</td>\n",
       "      <td>Ready To Move</td>\n",
       "      <td>Uttarahalli</td>\n",
       "      <td>3 BHK</td>\n",
       "      <td>NaN</td>\n",
       "      <td>1440</td>\n",
       "      <td>2.0</td>\n",
       "      <td>3.0</td>\n",
       "      <td>$62.00</td>\n",
       "      <td>NaN</td>\n",
       "      <td>NaN</td>\n",
       "      <td>NaN</td>\n",
       "      <td>NaN</td>\n",
       "    </tr>\n",
       "    <tr>\n",
       "      <th>3</th>\n",
       "      <td>Super built-up  Area</td>\n",
       "      <td>Ready To Move</td>\n",
       "      <td>Lingadheeranahalli</td>\n",
       "      <td>3 BHK</td>\n",
       "      <td>Soiewre</td>\n",
       "      <td>1521</td>\n",
       "      <td>3.0</td>\n",
       "      <td>1.0</td>\n",
       "      <td>$95.00</td>\n",
       "      <td>NaN</td>\n",
       "      <td>NaN</td>\n",
       "      <td>NaN</td>\n",
       "      <td>NaN</td>\n",
       "    </tr>\n",
       "    <tr>\n",
       "      <th>4</th>\n",
       "      <td>Super built-up  Area</td>\n",
       "      <td>Ready To Move</td>\n",
       "      <td>Kothanur</td>\n",
       "      <td>2 BHK</td>\n",
       "      <td>NaN</td>\n",
       "      <td>1200</td>\n",
       "      <td>2.0</td>\n",
       "      <td>1.0</td>\n",
       "      <td>$51.00</td>\n",
       "      <td>NaN</td>\n",
       "      <td>NaN</td>\n",
       "      <td>NaN</td>\n",
       "      <td>NaN</td>\n",
       "    </tr>\n",
       "  </tbody>\n",
       "</table>\n",
       "</div>"
      ],
      "text/plain": [
       "              area_type   availability                  location       size  \\\n",
       "0  Super built-up  Area         19-Dec  Electronic City Phase II      2 BHK   \n",
       "1            Plot  Area  Ready To Move          Chikka Tirupathi  4 Bedroom   \n",
       "2        Built-up  Area  Ready To Move               Uttarahalli      3 BHK   \n",
       "3  Super built-up  Area  Ready To Move        Lingadheeranahalli      3 BHK   \n",
       "4  Super built-up  Area  Ready To Move                  Kothanur      2 BHK   \n",
       "\n",
       "   society total_sqft  bath  balcony      price  Unnamed: 9  Unnamed: 10  \\\n",
       "0  Coomee        1056   2.0      1.0    $39.07          NaN          NaN   \n",
       "1  Theanmp       2600   5.0      3.0   $120.00          NaN          NaN   \n",
       "2      NaN       1440   2.0      3.0    $62.00          NaN          NaN   \n",
       "3  Soiewre       1521   3.0      1.0    $95.00          NaN          NaN   \n",
       "4      NaN       1200   2.0      1.0    $51.00          NaN          NaN   \n",
       "\n",
       "   Unnamed: 11  Unnamed: 12  \n",
       "0          NaN          NaN  \n",
       "1          NaN          NaN  \n",
       "2          NaN          NaN  \n",
       "3          NaN          NaN  \n",
       "4          NaN          NaN  "
      ]
     },
     "execution_count": 2,
     "metadata": {},
     "output_type": "execute_result"
    }
   ],
   "source": [
    "data = pd.read_csv(\"Bengaluru_House_Data.csv\",encoding=\"latin-1\")\n",
    "data.head()\n",
    "\n",
    "# Replace 'latin-1' with the actual encoding of your file if it's different from UTF-8. \n",
    "# Specifying the correct encoding should help to read the file without encountering the UnicodeDecodeError.\n"
   ]
  },
  {
   "cell_type": "markdown",
   "metadata": {},
   "source": [
    "### desccriptive analysis\n"
   ]
  },
  {
   "cell_type": "code",
   "execution_count": 3,
   "metadata": {},
   "outputs": [
    {
     "name": "stdout",
     "output_type": "stream",
     "text": [
      "<class 'pandas.core.frame.DataFrame'>\n",
      "RangeIndex: 13320 entries, 0 to 13319\n",
      "Data columns (total 13 columns):\n",
      " #   Column        Non-Null Count  Dtype  \n",
      "---  ------        --------------  -----  \n",
      " 0   area_type     13320 non-null  object \n",
      " 1   availability  13320 non-null  object \n",
      " 2   location      13319 non-null  object \n",
      " 3   size          13304 non-null  object \n",
      " 4   society       7818 non-null   object \n",
      " 5   total_sqft    13320 non-null  object \n",
      " 6   bath          13247 non-null  float64\n",
      " 7   balcony       12711 non-null  float64\n",
      " 8   price         13320 non-null  object \n",
      " 9   Unnamed: 9    0 non-null      float64\n",
      " 10  Unnamed: 10   0 non-null      float64\n",
      " 11  Unnamed: 11   0 non-null      float64\n",
      " 12  Unnamed: 12   0 non-null      float64\n",
      "dtypes: float64(6), object(7)\n",
      "memory usage: 1.3+ MB\n"
     ]
    }
   ],
   "source": [
    "data.info()"
   ]
  },
  {
   "cell_type": "code",
   "execution_count": 4,
   "metadata": {},
   "outputs": [
    {
     "data": {
      "text/html": [
       "<div>\n",
       "<style scoped>\n",
       "    .dataframe tbody tr th:only-of-type {\n",
       "        vertical-align: middle;\n",
       "    }\n",
       "\n",
       "    .dataframe tbody tr th {\n",
       "        vertical-align: top;\n",
       "    }\n",
       "\n",
       "    .dataframe thead th {\n",
       "        text-align: right;\n",
       "    }\n",
       "</style>\n",
       "<table border=\"1\" class=\"dataframe\">\n",
       "  <thead>\n",
       "    <tr style=\"text-align: right;\">\n",
       "      <th></th>\n",
       "      <th>bath</th>\n",
       "      <th>balcony</th>\n",
       "      <th>Unnamed: 9</th>\n",
       "      <th>Unnamed: 10</th>\n",
       "      <th>Unnamed: 11</th>\n",
       "      <th>Unnamed: 12</th>\n",
       "    </tr>\n",
       "  </thead>\n",
       "  <tbody>\n",
       "    <tr>\n",
       "      <th>count</th>\n",
       "      <td>13247.000000</td>\n",
       "      <td>12711.000000</td>\n",
       "      <td>0.0</td>\n",
       "      <td>0.0</td>\n",
       "      <td>0.0</td>\n",
       "      <td>0.0</td>\n",
       "    </tr>\n",
       "    <tr>\n",
       "      <th>mean</th>\n",
       "      <td>2.692610</td>\n",
       "      <td>1.584376</td>\n",
       "      <td>NaN</td>\n",
       "      <td>NaN</td>\n",
       "      <td>NaN</td>\n",
       "      <td>NaN</td>\n",
       "    </tr>\n",
       "    <tr>\n",
       "      <th>std</th>\n",
       "      <td>1.341458</td>\n",
       "      <td>0.817263</td>\n",
       "      <td>NaN</td>\n",
       "      <td>NaN</td>\n",
       "      <td>NaN</td>\n",
       "      <td>NaN</td>\n",
       "    </tr>\n",
       "    <tr>\n",
       "      <th>min</th>\n",
       "      <td>1.000000</td>\n",
       "      <td>0.000000</td>\n",
       "      <td>NaN</td>\n",
       "      <td>NaN</td>\n",
       "      <td>NaN</td>\n",
       "      <td>NaN</td>\n",
       "    </tr>\n",
       "    <tr>\n",
       "      <th>25%</th>\n",
       "      <td>2.000000</td>\n",
       "      <td>1.000000</td>\n",
       "      <td>NaN</td>\n",
       "      <td>NaN</td>\n",
       "      <td>NaN</td>\n",
       "      <td>NaN</td>\n",
       "    </tr>\n",
       "    <tr>\n",
       "      <th>50%</th>\n",
       "      <td>2.000000</td>\n",
       "      <td>2.000000</td>\n",
       "      <td>NaN</td>\n",
       "      <td>NaN</td>\n",
       "      <td>NaN</td>\n",
       "      <td>NaN</td>\n",
       "    </tr>\n",
       "    <tr>\n",
       "      <th>75%</th>\n",
       "      <td>3.000000</td>\n",
       "      <td>2.000000</td>\n",
       "      <td>NaN</td>\n",
       "      <td>NaN</td>\n",
       "      <td>NaN</td>\n",
       "      <td>NaN</td>\n",
       "    </tr>\n",
       "    <tr>\n",
       "      <th>max</th>\n",
       "      <td>40.000000</td>\n",
       "      <td>3.000000</td>\n",
       "      <td>NaN</td>\n",
       "      <td>NaN</td>\n",
       "      <td>NaN</td>\n",
       "      <td>NaN</td>\n",
       "    </tr>\n",
       "  </tbody>\n",
       "</table>\n",
       "</div>"
      ],
      "text/plain": [
       "               bath       balcony  Unnamed: 9  Unnamed: 10  Unnamed: 11  \\\n",
       "count  13247.000000  12711.000000         0.0          0.0          0.0   \n",
       "mean       2.692610      1.584376         NaN          NaN          NaN   \n",
       "std        1.341458      0.817263         NaN          NaN          NaN   \n",
       "min        1.000000      0.000000         NaN          NaN          NaN   \n",
       "25%        2.000000      1.000000         NaN          NaN          NaN   \n",
       "50%        2.000000      2.000000         NaN          NaN          NaN   \n",
       "75%        3.000000      2.000000         NaN          NaN          NaN   \n",
       "max       40.000000      3.000000         NaN          NaN          NaN   \n",
       "\n",
       "       Unnamed: 12  \n",
       "count          0.0  \n",
       "mean           NaN  \n",
       "std            NaN  \n",
       "min            NaN  \n",
       "25%            NaN  \n",
       "50%            NaN  \n",
       "75%            NaN  \n",
       "max            NaN  "
      ]
     },
     "execution_count": 4,
     "metadata": {},
     "output_type": "execute_result"
    }
   ],
   "source": [
    "data.describe()"
   ]
  },
  {
   "cell_type": "code",
   "execution_count": 5,
   "metadata": {},
   "outputs": [
    {
     "data": {
      "text/html": [
       "<div>\n",
       "<style scoped>\n",
       "    .dataframe tbody tr th:only-of-type {\n",
       "        vertical-align: middle;\n",
       "    }\n",
       "\n",
       "    .dataframe tbody tr th {\n",
       "        vertical-align: top;\n",
       "    }\n",
       "\n",
       "    .dataframe thead th {\n",
       "        text-align: right;\n",
       "    }\n",
       "</style>\n",
       "<table border=\"1\" class=\"dataframe\">\n",
       "  <thead>\n",
       "    <tr style=\"text-align: right;\">\n",
       "      <th></th>\n",
       "      <th>area_type</th>\n",
       "      <th>availability</th>\n",
       "      <th>location</th>\n",
       "      <th>size</th>\n",
       "      <th>society</th>\n",
       "      <th>total_sqft</th>\n",
       "      <th>price</th>\n",
       "    </tr>\n",
       "  </thead>\n",
       "  <tbody>\n",
       "    <tr>\n",
       "      <th>count</th>\n",
       "      <td>13320</td>\n",
       "      <td>13320</td>\n",
       "      <td>13319</td>\n",
       "      <td>13304</td>\n",
       "      <td>7818</td>\n",
       "      <td>13320</td>\n",
       "      <td>13320</td>\n",
       "    </tr>\n",
       "    <tr>\n",
       "      <th>unique</th>\n",
       "      <td>4</td>\n",
       "      <td>81</td>\n",
       "      <td>1305</td>\n",
       "      <td>31</td>\n",
       "      <td>2688</td>\n",
       "      <td>2117</td>\n",
       "      <td>2205</td>\n",
       "    </tr>\n",
       "    <tr>\n",
       "      <th>top</th>\n",
       "      <td>Super built-up  Area</td>\n",
       "      <td>Ready To Move</td>\n",
       "      <td>Whitefield</td>\n",
       "      <td>2 BHK</td>\n",
       "      <td>GrrvaGr</td>\n",
       "      <td>1200</td>\n",
       "      <td>75</td>\n",
       "    </tr>\n",
       "    <tr>\n",
       "      <th>freq</th>\n",
       "      <td>8790</td>\n",
       "      <td>10581</td>\n",
       "      <td>540</td>\n",
       "      <td>5199</td>\n",
       "      <td>80</td>\n",
       "      <td>843</td>\n",
       "      <td>303</td>\n",
       "    </tr>\n",
       "  </tbody>\n",
       "</table>\n",
       "</div>"
      ],
      "text/plain": [
       "                   area_type   availability    location   size  society  \\\n",
       "count                  13320          13320       13319  13304     7818   \n",
       "unique                     4             81        1305     31     2688   \n",
       "top     Super built-up  Area  Ready To Move  Whitefield  2 BHK  GrrvaGr   \n",
       "freq                    8790          10581         540   5199       80   \n",
       "\n",
       "       total_sqft  price  \n",
       "count       13320  13320  \n",
       "unique       2117   2205  \n",
       "top          1200     75  \n",
       "freq          843    303  "
      ]
     },
     "execution_count": 5,
     "metadata": {},
     "output_type": "execute_result"
    }
   ],
   "source": [
    "data.describe(include='O')"
   ]
  },
  {
   "cell_type": "code",
   "execution_count": 6,
   "metadata": {},
   "outputs": [
    {
     "name": "stdout",
     "output_type": "stream",
     "text": [
      "Super built-up  Area    8790\n",
      "Built-up  Area          2418\n",
      "Plot  Area              2025\n",
      "Carpet  Area              87\n",
      "Name: area_type, dtype: int64\n",
      "**********************************\n",
      "Ready To Move    10581\n",
      "18-Dec             307\n",
      "18-May             295\n",
      "18-Apr             271\n",
      "18-Aug             200\n",
      "                 ...  \n",
      "15-Aug               1\n",
      "17-Jan               1\n",
      "16-Nov               1\n",
      "16-Jan               1\n",
      "14-Jul               1\n",
      "Name: availability, Length: 81, dtype: int64\n",
      "**********************************\n",
      "Whitefield                        540\n",
      "Sarjapur  Road                    399\n",
      "Electronic City                   302\n",
      "Kanakpura Road                    273\n",
      "Thanisandra                       234\n",
      "                                 ... \n",
      "Bapuji Layout                       1\n",
      "1st Stage Radha Krishna Layout      1\n",
      "BEML Layout 5th stage               1\n",
      "singapura paradise                  1\n",
      "Abshot Layout                       1\n",
      "Name: location, Length: 1305, dtype: int64\n",
      "**********************************\n",
      "2 BHK         5199\n",
      "3 BHK         4310\n",
      "4 Bedroom      826\n",
      "4 BHK          591\n",
      "3 Bedroom      547\n",
      "1 BHK          538\n",
      "2 Bedroom      329\n",
      "5 Bedroom      297\n",
      "6 Bedroom      191\n",
      "1 Bedroom      105\n",
      "8 Bedroom       84\n",
      "7 Bedroom       83\n",
      "5 BHK           59\n",
      "9 Bedroom       46\n",
      "6 BHK           30\n",
      "7 BHK           17\n",
      "1 RK            13\n",
      "10 Bedroom      12\n",
      "9 BHK            8\n",
      "8 BHK            5\n",
      "11 BHK           2\n",
      "11 Bedroom       2\n",
      "10 BHK           2\n",
      "14 BHK           1\n",
      "13 BHK           1\n",
      "12 Bedroom       1\n",
      "27 BHK           1\n",
      "43 Bedroom       1\n",
      "16 BHK           1\n",
      "19 BHK           1\n",
      "18 Bedroom       1\n",
      "Name: size, dtype: int64\n",
      "**********************************\n",
      "GrrvaGr    80\n",
      "PrarePa    76\n",
      "Sryalan    59\n",
      "Prtates    59\n",
      "GMown E    56\n",
      "           ..\n",
      "Amionce     1\n",
      "JaghtDe     1\n",
      "Jauraht     1\n",
      "Brity U     1\n",
      "RSntsAp     1\n",
      "Name: society, Length: 2688, dtype: int64\n",
      "**********************************\n",
      "1200    843\n",
      "1100    221\n",
      "1500    205\n",
      "2400    196\n",
      "600     180\n",
      "       ... \n",
      "3580      1\n",
      "2461      1\n",
      "1437      1\n",
      "2155      1\n",
      "4689      1\n",
      "Name: total_sqft, Length: 2117, dtype: int64\n",
      "**********************************\n",
      "2.0     6908\n",
      "3.0     3286\n",
      "4.0     1226\n",
      "1.0      788\n",
      "5.0      524\n",
      "6.0      273\n",
      "7.0      102\n",
      "8.0       64\n",
      "9.0       43\n",
      "10.0      13\n",
      "12.0       7\n",
      "13.0       3\n",
      "11.0       3\n",
      "16.0       2\n",
      "27.0       1\n",
      "40.0       1\n",
      "15.0       1\n",
      "14.0       1\n",
      "18.0       1\n",
      "Name: bath, dtype: int64\n",
      "**********************************\n",
      "2.0    5113\n",
      "1.0    4897\n",
      "3.0    1672\n",
      "0.0    1029\n",
      "Name: balcony, dtype: int64\n",
      "**********************************\n",
      "75        303\n",
      "65        290\n",
      "55        270\n",
      "60        261\n",
      "45        237\n",
      "         ... \n",
      "88.73       1\n",
      "48.905      1\n",
      "42.12       1\n",
      "284         1\n",
      "488         1\n",
      "Name: price, Length: 2205, dtype: int64\n",
      "**********************************\n",
      "Series([], Name: Unnamed: 9, dtype: int64)\n",
      "**********************************\n",
      "Series([], Name: Unnamed: 10, dtype: int64)\n",
      "**********************************\n",
      "Series([], Name: Unnamed: 11, dtype: int64)\n",
      "**********************************\n",
      "Series([], Name: Unnamed: 12, dtype: int64)\n",
      "**********************************\n"
     ]
    }
   ],
   "source": [
    "for col in data.columns:\n",
    "    print(data[col].value_counts())\n",
    "\n",
    "    print('*'*34)\n"
   ]
  },
  {
   "cell_type": "markdown",
   "metadata": {},
   "source": [
    "## Making the Dataset into correct format "
   ]
  },
  {
   "cell_type": "code",
   "execution_count": 7,
   "metadata": {},
   "outputs": [
    {
     "name": "stdout",
     "output_type": "stream",
     "text": [
      ".    2522\n",
      "?     202\n",
      "     110\n",
      "$      23\n",
      "-       2\n",
      "dtype: int64\n"
     ]
    },
    {
     "data": {
      "text/plain": [
       "65.0      333\n",
       "75.0      331\n",
       "55.0      321\n",
       "45.0      301\n",
       "60.0      300\n",
       "         ... \n",
       "815.0       1\n",
       "2250.0      1\n",
       "369.0       1\n",
       "343.0       1\n",
       "488.0       1\n",
       "Name: Price, Length: 485, dtype: int64"
      ]
     },
     "execution_count": 7,
     "metadata": {},
     "output_type": "execute_result"
    }
   ],
   "source": [
    "# In this Dataset Price is target variable, let's clean it\n",
    "# all the special char in price variable\n",
    "print(data.price.str.extract(\"([^\\w\\s])\").value_counts())\n",
    "\n",
    "# keep only numbers\n",
    "data['Price'] = data.price.str.extract(\"(\\d+)\").astype(float)\n",
    "data.Price.value_counts()\n",
    "\n"
   ]
  },
  {
   "cell_type": "code",
   "execution_count": 8,
   "metadata": {},
   "outputs": [
    {
     "data": {
      "text/plain": [
       "array(['19-Dec', 'Ready To Move', '18-May', '18-Feb', '18-Nov', '20-Dec',\n",
       "       '17-Oct', '21-Dec', '19-Sep', '20-Sep', '18-Mar', '20-Feb',\n",
       "       '18-Apr', '20-Aug', '18-Oct', '19-Mar', '17-Sep', '18-Dec',\n",
       "       '17-Aug', '19-Apr', '18-Jun', '22-Dec', '22-Jan', '18-Aug',\n",
       "       '19-Jan', '17-Jul', '18-Jul', '21-Jun', '20-May', '19-Aug',\n",
       "       '18-Sep', '17-May', '17-Jun', '21-May', '18-Jan', '20-Mar',\n",
       "       '17-Dec', '16-Mar', '19-Jun', '22-Jun', '19-Jul', '21-Feb',\n",
       "       'Immediate Possession', '19-May', '17-Nov', '20-Oct', '20-Jun',\n",
       "       '19-Feb', '21-Oct', '21-Jan', '17-Mar', '17-Apr', '22-May',\n",
       "       '19-Oct', '21-Jul', '21-Nov', '21-Mar', '16-Dec', '22-Mar',\n",
       "       '20-Jan', '21-Sep', '21-Aug', '14-Nov', '19-Nov', '15-Nov',\n",
       "       '16-Jul', '15-Jun', '17-Feb', '20-Nov', '20-Jul', '16-Sep',\n",
       "       '15-Oct', '15-Dec', '16-Oct', '22-Nov', '15-Aug', '17-Jan',\n",
       "       '16-Nov', '20-Apr', '16-Jan', '14-Jul'], dtype=object)"
      ]
     },
     "execution_count": 8,
     "metadata": {},
     "output_type": "execute_result"
    }
   ],
   "source": [
    "# availability feature overview\n",
    "data.availability.unique()"
   ]
  },
  {
   "cell_type": "code",
   "execution_count": 9,
   "metadata": {},
   "outputs": [],
   "source": [
    "# Extract month from availability column\n",
    "data['availability'] = data['availability'].str.extract(r'(\\w{3,})')"
   ]
  },
  {
   "cell_type": "code",
   "execution_count": 10,
   "metadata": {},
   "outputs": [
    {
     "name": "stdout",
     "output_type": "stream",
     "text": [
      "['2 BHK' '4 Bedroom' '3 BHK' '4 BHK' '6 Bedroom' '3 Bedroom' '1 BHK'\n",
      " '1 RK' '1 Bedroom' '8 Bedroom' '2 Bedroom' '7 Bedroom' '5 BHK' '7 BHK'\n",
      " '6 BHK' '5 Bedroom' '11 BHK' '9 BHK' nan '9 Bedroom' '27 BHK'\n",
      " '10 Bedroom' '11 Bedroom' '10 BHK' '19 BHK' '16 BHK' '43 Bedroom'\n",
      " '14 BHK' '8 BHK' '12 Bedroom' '13 BHK' '18 Bedroom']\n"
     ]
    }
   ],
   "source": [
    "# see the uniqueness in the data\n",
    "print(data['size'].unique())\n",
    "\n",
    "# extracting the size of the BHK and Bedroom\n",
    "data['size'] = data['size'].str.split().str.get(0).astype(float)"
   ]
  },
  {
   "cell_type": "code",
   "execution_count": 11,
   "metadata": {},
   "outputs": [
    {
     "name": "stdout",
     "output_type": "stream",
     "text": [
      "['1056' '2600' '1440' ... '1133 - 1384' '774' '4689']\n",
      "[1056.  2600.  1440.  ... 1258.5  774.  4689. ]\n"
     ]
    }
   ],
   "source": [
    "# total sqft column have the '-' between the numeric values\n",
    "print(data.total_sqft.unique())\n",
    "\n",
    "# convert range number into mean and float\n",
    "def sqft(s):\n",
    "    temp = s.split(' - ')\n",
    "    if len(temp)==2:\n",
    "        return ((float(temp[0])+float(temp[1]))/2)\n",
    "    try:\n",
    "        return float(s)\n",
    "    except:\n",
    "        return None\n",
    "\n",
    "\n",
    "data['total_sqft'] = data['total_sqft'].astype('str').apply(sqft)\n",
    "print(data.total_sqft.unique())"
   ]
  },
  {
   "cell_type": "code",
   "execution_count": 12,
   "metadata": {},
   "outputs": [],
   "source": [
    "# removiing any extra space from location values\n",
    "data['location'] = data['location'].astype('str').apply(lambda x: x.strip())"
   ]
  },
  {
   "cell_type": "code",
   "execution_count": 13,
   "metadata": {},
   "outputs": [
    {
     "data": {
      "text/plain": [
       "Whitefield                            541\n",
       "Sarjapur  Road                        399\n",
       "Electronic City                       304\n",
       "Kanakpura Road                        273\n",
       "Thanisandra                           237\n",
       "                                     ... \n",
       "1Channasandra                           1\n",
       "Hosahalli                               1\n",
       "Vijayabank bank layout                  1\n",
       "near Ramanashree California resort      1\n",
       "Abshot Layout                           1\n",
       "Name: location, Length: 1295, dtype: int64"
      ]
     },
     "execution_count": 13,
     "metadata": {},
     "output_type": "execute_result"
    }
   ],
   "source": [
    "# analysing the location column\n",
    "data.location.value_counts()\n",
    "\n",
    "# total 1295 unique values,how many of them are smaller in count"
   ]
  },
  {
   "cell_type": "code",
   "execution_count": 14,
   "metadata": {},
   "outputs": [
    {
     "data": {
      "text/plain": [
       "other                2567\n",
       "Whitefield            541\n",
       "Sarjapur  Road        399\n",
       "Electronic City       304\n",
       "Kanakpura Road        273\n",
       "                     ... \n",
       "Gollahalli              9\n",
       "Kamakshipalya           9\n",
       "Chandra Layout          9\n",
       "Peenya                  9\n",
       "Jakkur Plantation       9\n",
       "Name: location, Length: 276, dtype: int64"
      ]
     },
     "execution_count": 14,
     "metadata": {},
     "output_type": "execute_result"
    }
   ],
   "source": [
    "# if any value <= 9\n",
    "loc= data.location.value_counts()\n",
    "\n",
    "# there are total 1041 locations smaller in count\n",
    "value_count_9 = loc[loc<9]\n",
    "\n",
    "data['location'] = data['location'].apply(lambda x: 'other' if x in value_count_9 else x)\n",
    "data['location'].value_counts()"
   ]
  },
  {
   "cell_type": "code",
   "execution_count": 15,
   "metadata": {},
   "outputs": [],
   "source": [
    "# # get the all values from the value counts method\n",
    "# cat_area_type = data.location.value_counts()\n",
    "\n",
    "# loc_9 = cat_area_type[cat_area_type<9]\n",
    "# loc_19 = cat_area_type[cat_area_type<19]\n",
    "# loc_29 = cat_area_type[cat_area_type<29]\n",
    "# loc_51 = cat_area_type[cat_area_type<51]\n",
    "# loc_99 = cat_area_type[cat_area_type<99]\n",
    "# loc_159 = cat_area_type[cat_area_type<159]\n",
    "# loc_259 = cat_area_type[cat_area_type<259]\n",
    "# def locations_bin(x):\n",
    "#     if x in loc_9:\n",
    "#         return 'locaction_1'\n",
    "#     elif x in loc_19:\n",
    "#         return 'location_2'\n",
    "#     elif x in loc_29:\n",
    "#         return 'location_3'\n",
    "#     elif x in loc_51:\n",
    "#         return 'location_4'\n",
    "#     elif x in loc_99:\n",
    "#         return 'location_4'\n",
    "#     elif x in loc_159:\n",
    "#         return 'location_5'\n",
    "#     elif x in loc_259:\n",
    "#         return 'location_6'\n",
    "#     else:    \n",
    "#         return 'location_7'\n",
    "    \n",
    "#     return x\n",
    "\n",
    "# data['location'] = data['location'].apply(locations_bin)\n",
    "\n",
    "# data['location'].value_counts()"
   ]
  },
  {
   "cell_type": "markdown",
   "metadata": {},
   "source": [
    "### Society"
   ]
  },
  {
   "cell_type": "code",
   "execution_count": 16,
   "metadata": {},
   "outputs": [],
   "source": [
    "# print(data.society.isna().sum())\n",
    "# data.loc[data.society.isna()] = data.society.mode()[0]\n",
    "\n",
    "# print(\"after filling: \", data.society.isna().sum())"
   ]
  },
  {
   "cell_type": "code",
   "execution_count": 17,
   "metadata": {},
   "outputs": [
    {
     "data": {
      "text/plain": [
       "GrrvaGr    80\n",
       "PrarePa    76\n",
       "Sryalan    59\n",
       "Prtates    59\n",
       "GMown E    56\n",
       "           ..\n",
       "Amionce     1\n",
       "JaghtDe     1\n",
       "Jauraht     1\n",
       "Brity U     1\n",
       "RSntsAp     1\n",
       "Name: society, Length: 2688, dtype: int64"
      ]
     },
     "execution_count": 17,
     "metadata": {},
     "output_type": "execute_result"
    }
   ],
   "source": [
    "socity_value = data.society.value_counts()\n",
    "socity_value"
   ]
  },
  {
   "cell_type": "code",
   "execution_count": 18,
   "metadata": {},
   "outputs": [],
   "source": [
    "socity_value_9 = socity_value[socity_value<6]\n",
    "\n",
    "def socity_value_bin(x):\n",
    "    if x in socity_value_9:\n",
    "        return 'random_society'\n",
    "    return x\n",
    "\n",
    "data['society'] = data.society.apply(lambda x:socity_value_bin(x))"
   ]
  },
  {
   "cell_type": "code",
   "execution_count": 19,
   "metadata": {},
   "outputs": [
    {
     "data": {
      "text/plain": [
       "random_society    3944\n",
       "GrrvaGr             80\n",
       "PrarePa             76\n",
       "Sryalan             59\n",
       "Prtates             59\n",
       "                  ... \n",
       "Sonue A              6\n",
       "Sreat R              6\n",
       "KHityry              6\n",
       "MJarlPe              6\n",
       "Prldsum              6\n",
       "Name: society, Length: 280, dtype: int64"
      ]
     },
     "execution_count": 19,
     "metadata": {},
     "output_type": "execute_result"
    }
   ],
   "source": [
    "data.society.value_counts()"
   ]
  },
  {
   "cell_type": "code",
   "execution_count": 20,
   "metadata": {},
   "outputs": [
    {
     "data": {
      "text/plain": [
       "<AxesSubplot:>"
      ]
     },
     "execution_count": 20,
     "metadata": {},
     "output_type": "execute_result"
    },
    {
     "data": {
      "image/png": "[encoded data removed]",
      "text/plain": [
       "<Figure size 432x288 with 2 Axes>"
      ]
     },
     "metadata": {
      "needs_background": "light"
     },
     "output_type": "display_data"
    }
   ],
   "source": [
    "# check the correlation between the variables\n",
    "sns.heatmap(data.corr(),annot=True, cmap='coolwarm')"
   ]
  },
  {
   "cell_type": "code",
   "execution_count": 21,
   "metadata": {},
   "outputs": [
    {
     "name": "stdout",
     "output_type": "stream",
     "text": [
      "before shape (13320, 14)\n",
      "after shape (13320, 7)\n"
     ]
    }
   ],
   "source": [
    "# drop the null values \n",
    "print(\"before shape\",data.shape)\n",
    "data.drop(['price','bath','Unnamed: 12','Unnamed: 11', \"Unnamed: 10\",\"Unnamed: 9\",'balcony'],axis=1, inplace=True)\n",
    "print(\"after shape\",data.shape)"
   ]
  },
  {
   "cell_type": "code",
   "execution_count": 22,
   "metadata": {},
   "outputs": [
    {
     "data": {
      "text/plain": [
       "<AxesSubplot:>"
      ]
     },
     "execution_count": 22,
     "metadata": {},
     "output_type": "execute_result"
    },
    {
     "data": {
      "image/png": "[encoded data removed]",
      "text/plain": [
       "<Figure size 432x288 with 2 Axes>"
      ]
     },
     "metadata": {
      "needs_background": "light"
     },
     "output_type": "display_data"
    }
   ],
   "source": [
    "\n",
    "sns.heatmap(data.corr(),annot=True, cmap='coolwarm')"
   ]
  },
  {
   "cell_type": "code",
   "execution_count": 23,
   "metadata": {},
   "outputs": [],
   "source": [
    "# # data shape before the data\n",
    "# print(\"before the cleaning the duplicates\",data.shape)\n",
    "# print(\"\\n\",data[data.duplicated()].count())\n",
    "# print(\"--\"*39)\n",
    "\n",
    "# # removing duplicate values\n",
    "# data = data.drop_duplicates(keep=\"last\")\n",
    "# print(\"data shape after duplicates removal\", data.shape)\n"
   ]
  },
  {
   "cell_type": "markdown",
   "metadata": {},
   "source": [
    "## filling the missing values"
   ]
  },
  {
   "cell_type": "code",
   "execution_count": 24,
   "metadata": {},
   "outputs": [
    {
     "data": {
      "text/plain": [
       "area_type          0\n",
       "availability       0\n",
       "location           0\n",
       "size              16\n",
       "society         5502\n",
       "total_sqft        46\n",
       "Price              0\n",
       "dtype: int64"
      ]
     },
     "execution_count": 24,
     "metadata": {},
     "output_type": "execute_result"
    }
   ],
   "source": [
    "data.isna().sum()"
   ]
  },
  {
   "cell_type": "markdown",
   "metadata": {},
   "source": [
    "##### Location"
   ]
  },
  {
   "cell_type": "code",
   "execution_count": 25,
   "metadata": {},
   "outputs": [],
   "source": [
    "# check the number values repeated most of the time\n",
    "# print(data.location.value_counts())\n",
    "\n",
    "# location variable missing one value, which can be filled with mode\n",
    "# data['location'] = data.location.fillna(data.location.mode()[0])\n",
    "\n",
    "# check if any nnull value\n",
    "# data.location.isna().sum()"
   ]
  },
  {
   "cell_type": "code",
   "execution_count": 26,
   "metadata": {},
   "outputs": [
    {
     "data": {
      "text/plain": [
       "(area_type       0\n",
       " availability    0\n",
       " location        0\n",
       " size            0\n",
       " society         0\n",
       " total_sqft      0\n",
       " Price           0\n",
       " dtype: int64,\n",
       " (7789, 7))"
      ]
     },
     "execution_count": 26,
     "metadata": {},
     "output_type": "execute_result"
    }
   ],
   "source": [
    "# data.fillna({'size':data['size'].median(),\n",
    "#             #  'bath':data['bath'].median(),\n",
    "#             'society': 'unknown',\n",
    "#              'total_sqft': data['total_sqft'].median()\n",
    "#           #    'balcony':data.balcony.median()\n",
    "# },inplace=True)\n",
    "\n",
    "\n",
    "\n",
    "# data = data.fillna(method='bfill')\n",
    "\n",
    "data.dropna(axis=0, inplace=True)\n",
    "\n",
    "data.isna().sum(), data.shape\n"
   ]
  },
  {
   "cell_type": "code",
   "execution_count": 27,
   "metadata": {},
   "outputs": [
    {
     "data": {
      "image/png": "[encoded data removed]",
      "text/plain": [
       "<Figure size 432x288 with 1 Axes>"
      ]
     },
     "metadata": {
      "needs_background": "light"
     },
     "output_type": "display_data"
    },
    {
     "data": {
      "image/png": "[encoded data removed]",
      "text/plain": [
       "<Figure size 432x288 with 1 Axes>"
      ]
     },
     "metadata": {
      "needs_background": "light"
     },
     "output_type": "display_data"
    }
   ],
   "source": [
    "# data.balcony.plot.density()\n",
    "# plt.title(\"Balconies\")\n",
    "# plt.show()\n",
    "\n",
    "# df_random.Bedrooms.astype(float)\n",
    "data['size'].plot.density()\n",
    "plt.title(\"size\")\n",
    "plt.show()\n",
    "\n",
    "data['total_sqft'].plot.density()\n",
    "plt.title(\"total_sqft\")\n",
    "plt.show()"
   ]
  },
  {
   "cell_type": "code",
   "execution_count": 28,
   "metadata": {},
   "outputs": [
    {
     "data": {
      "text/html": [
       "<div>\n",
       "<style scoped>\n",
       "    .dataframe tbody tr th:only-of-type {\n",
       "        vertical-align: middle;\n",
       "    }\n",
       "\n",
       "    .dataframe tbody tr th {\n",
       "        vertical-align: top;\n",
       "    }\n",
       "\n",
       "    .dataframe thead th {\n",
       "        text-align: right;\n",
       "    }\n",
       "</style>\n",
       "<table border=\"1\" class=\"dataframe\">\n",
       "  <thead>\n",
       "    <tr style=\"text-align: right;\">\n",
       "      <th></th>\n",
       "      <th>size</th>\n",
       "      <th>total_sqft</th>\n",
       "      <th>Price</th>\n",
       "    </tr>\n",
       "  </thead>\n",
       "  <tbody>\n",
       "    <tr>\n",
       "      <th>count</th>\n",
       "      <td>7789.000000</td>\n",
       "      <td>7789.000000</td>\n",
       "      <td>7789.000000</td>\n",
       "    </tr>\n",
       "    <tr>\n",
       "      <th>mean</th>\n",
       "      <td>2.565413</td>\n",
       "      <td>1549.521229</td>\n",
       "      <td>106.614585</td>\n",
       "    </tr>\n",
       "    <tr>\n",
       "      <th>std</th>\n",
       "      <td>0.788164</td>\n",
       "      <td>984.678169</td>\n",
       "      <td>491.793565</td>\n",
       "    </tr>\n",
       "    <tr>\n",
       "      <th>min</th>\n",
       "      <td>1.000000</td>\n",
       "      <td>11.000000</td>\n",
       "      <td>8.000000</td>\n",
       "    </tr>\n",
       "    <tr>\n",
       "      <th>0.1%</th>\n",
       "      <td>1.000000</td>\n",
       "      <td>392.032000</td>\n",
       "      <td>11.000000</td>\n",
       "    </tr>\n",
       "    <tr>\n",
       "      <th>1%</th>\n",
       "      <td>1.000000</td>\n",
       "      <td>525.000000</td>\n",
       "      <td>19.000000</td>\n",
       "    </tr>\n",
       "    <tr>\n",
       "      <th>10%</th>\n",
       "      <td>2.000000</td>\n",
       "      <td>950.000000</td>\n",
       "      <td>38.000000</td>\n",
       "    </tr>\n",
       "    <tr>\n",
       "      <th>25%</th>\n",
       "      <td>2.000000</td>\n",
       "      <td>1125.000000</td>\n",
       "      <td>50.000000</td>\n",
       "    </tr>\n",
       "    <tr>\n",
       "      <th>50%</th>\n",
       "      <td>3.000000</td>\n",
       "      <td>1326.000000</td>\n",
       "      <td>70.000000</td>\n",
       "    </tr>\n",
       "    <tr>\n",
       "      <th>75%</th>\n",
       "      <td>3.000000</td>\n",
       "      <td>1692.000000</td>\n",
       "      <td>110.000000</td>\n",
       "    </tr>\n",
       "    <tr>\n",
       "      <th>95%</th>\n",
       "      <td>4.000000</td>\n",
       "      <td>3123.200000</td>\n",
       "      <td>280.000000</td>\n",
       "    </tr>\n",
       "    <tr>\n",
       "      <th>99%</th>\n",
       "      <td>4.000000</td>\n",
       "      <td>4775.360000</td>\n",
       "      <td>550.000000</td>\n",
       "    </tr>\n",
       "    <tr>\n",
       "      <th>99.9%</th>\n",
       "      <td>6.212000</td>\n",
       "      <td>10000.000000</td>\n",
       "      <td>1701.500000</td>\n",
       "    </tr>\n",
       "    <tr>\n",
       "      <th>max</th>\n",
       "      <td>18.000000</td>\n",
       "      <td>36000.000000</td>\n",
       "      <td>42278.000000</td>\n",
       "    </tr>\n",
       "  </tbody>\n",
       "</table>\n",
       "</div>"
      ],
      "text/plain": [
       "              size    total_sqft         Price\n",
       "count  7789.000000   7789.000000   7789.000000\n",
       "mean      2.565413   1549.521229    106.614585\n",
       "std       0.788164    984.678169    491.793565\n",
       "min       1.000000     11.000000      8.000000\n",
       "0.1%      1.000000    392.032000     11.000000\n",
       "1%        1.000000    525.000000     19.000000\n",
       "10%       2.000000    950.000000     38.000000\n",
       "25%       2.000000   1125.000000     50.000000\n",
       "50%       3.000000   1326.000000     70.000000\n",
       "75%       3.000000   1692.000000    110.000000\n",
       "95%       4.000000   3123.200000    280.000000\n",
       "99%       4.000000   4775.360000    550.000000\n",
       "99.9%     6.212000  10000.000000   1701.500000\n",
       "max      18.000000  36000.000000  42278.000000"
      ]
     },
     "execution_count": 28,
     "metadata": {},
     "output_type": "execute_result"
    }
   ],
   "source": [
    "# check the desccription of numerical data\n",
    "data.describe([0.001,0.01, 0.1, 0.25, 0.5,0.75,0.95,0.99,0.999])"
   ]
  },
  {
   "cell_type": "code",
   "execution_count": 29,
   "metadata": {},
   "outputs": [],
   "source": [
    "# sns.pairplot(data=data,hue='Price')"
   ]
  },
  {
   "cell_type": "code",
   "execution_count": 30,
   "metadata": {},
   "outputs": [
    {
     "name": "stdout",
     "output_type": "stream",
     "text": [
      "<class 'pandas.core.frame.DataFrame'>\n",
      "Int64Index: 7789 entries, 0 to 13318\n",
      "Data columns (total 7 columns):\n",
      " #   Column        Non-Null Count  Dtype  \n",
      "---  ------        --------------  -----  \n",
      " 0   area_type     7789 non-null   object \n",
      " 1   availability  7789 non-null   object \n",
      " 2   location      7789 non-null   object \n",
      " 3   size          7789 non-null   float64\n",
      " 4   society       7789 non-null   object \n",
      " 5   total_sqft    7789 non-null   float64\n",
      " 6   Price         7789 non-null   float64\n",
      "dtypes: float64(3), object(4)\n",
      "memory usage: 486.8+ KB\n"
     ]
    }
   ],
   "source": [
    "data.info()"
   ]
  },
  {
   "cell_type": "markdown",
   "metadata": {},
   "source": [
    "# EDA"
   ]
  },
  {
   "cell_type": "code",
   "execution_count": 31,
   "metadata": {},
   "outputs": [
    {
     "data": {
      "image/png": "[encoded data removed]",
      "text/plain": [
       "<Figure size 432x288 with 1 Axes>"
      ]
     },
     "metadata": {
      "needs_background": "light"
     },
     "output_type": "display_data"
    }
   ],
   "source": [
    "sns.countplot(data.area_type)\n",
    "plt.show()"
   ]
  },
  {
   "cell_type": "code",
   "execution_count": 32,
   "metadata": {},
   "outputs": [
    {
     "data": {
      "image/png": "[encoded data removed]",
      "text/plain": [
       "<Figure size 1224x864 with 1 Axes>"
      ]
     },
     "metadata": {
      "needs_background": "light"
     },
     "output_type": "display_data"
    }
   ],
   "source": [
    "plt.figure(figsize=(17,12))\n",
    "sns.countplot(x=data.availability)\n",
    "plt.show()"
   ]
  },
  {
   "cell_type": "code",
   "execution_count": 33,
   "metadata": {},
   "outputs": [
    {
     "data": {
      "image/png": "[encoded data removed]",
      "text/plain": [
       "<Figure size 432x288 with 1 Axes>"
      ]
     },
     "metadata": {
      "needs_background": "light"
     },
     "output_type": "display_data"
    }
   ],
   "source": [
    "sns.scatterplot(data.total_sqft, data.Price)\n",
    "plt.show()"
   ]
  },
  {
   "cell_type": "code",
   "execution_count": 34,
   "metadata": {},
   "outputs": [
    {
     "data": {
      "text/html": [
       "<div>\n",
       "<style scoped>\n",
       "    .dataframe tbody tr th:only-of-type {\n",
       "        vertical-align: middle;\n",
       "    }\n",
       "\n",
       "    .dataframe tbody tr th {\n",
       "        vertical-align: top;\n",
       "    }\n",
       "\n",
       "    .dataframe thead th {\n",
       "        text-align: right;\n",
       "    }\n",
       "</style>\n",
       "<table border=\"1\" class=\"dataframe\">\n",
       "  <thead>\n",
       "    <tr style=\"text-align: right;\">\n",
       "      <th></th>\n",
       "      <th>area_type</th>\n",
       "      <th>availability</th>\n",
       "      <th>location</th>\n",
       "      <th>size</th>\n",
       "      <th>society</th>\n",
       "      <th>total_sqft</th>\n",
       "      <th>Price</th>\n",
       "    </tr>\n",
       "  </thead>\n",
       "  <tbody>\n",
       "    <tr>\n",
       "      <th>0</th>\n",
       "      <td>Super built-up  Area</td>\n",
       "      <td>Dec</td>\n",
       "      <td>Electronic City Phase II</td>\n",
       "      <td>2.0</td>\n",
       "      <td>random_society</td>\n",
       "      <td>1056.0</td>\n",
       "      <td>39.0</td>\n",
       "    </tr>\n",
       "    <tr>\n",
       "      <th>1</th>\n",
       "      <td>Plot  Area</td>\n",
       "      <td>Ready</td>\n",
       "      <td>Chikka Tirupathi</td>\n",
       "      <td>4.0</td>\n",
       "      <td>Theanmp</td>\n",
       "      <td>2600.0</td>\n",
       "      <td>120.0</td>\n",
       "    </tr>\n",
       "    <tr>\n",
       "      <th>3</th>\n",
       "      <td>Super built-up  Area</td>\n",
       "      <td>Ready</td>\n",
       "      <td>Lingadheeranahalli</td>\n",
       "      <td>3.0</td>\n",
       "      <td>Soiewre</td>\n",
       "      <td>1521.0</td>\n",
       "      <td>95.0</td>\n",
       "    </tr>\n",
       "    <tr>\n",
       "      <th>5</th>\n",
       "      <td>Super built-up  Area</td>\n",
       "      <td>Ready</td>\n",
       "      <td>Whitefield</td>\n",
       "      <td>2.0</td>\n",
       "      <td>random_society</td>\n",
       "      <td>1170.0</td>\n",
       "      <td>38.0</td>\n",
       "    </tr>\n",
       "    <tr>\n",
       "      <th>6</th>\n",
       "      <td>Super built-up  Area</td>\n",
       "      <td>May</td>\n",
       "      <td>Old Airport Road</td>\n",
       "      <td>4.0</td>\n",
       "      <td>Jaades</td>\n",
       "      <td>2732.0</td>\n",
       "      <td>204.0</td>\n",
       "    </tr>\n",
       "  </tbody>\n",
       "</table>\n",
       "</div>"
      ],
      "text/plain": [
       "              area_type availability                  location  size  \\\n",
       "0  Super built-up  Area          Dec  Electronic City Phase II   2.0   \n",
       "1            Plot  Area        Ready          Chikka Tirupathi   4.0   \n",
       "3  Super built-up  Area        Ready        Lingadheeranahalli   3.0   \n",
       "5  Super built-up  Area        Ready                Whitefield   2.0   \n",
       "6  Super built-up  Area          May          Old Airport Road   4.0   \n",
       "\n",
       "          society  total_sqft  Price  \n",
       "0  random_society      1056.0   39.0  \n",
       "1         Theanmp      2600.0  120.0  \n",
       "3         Soiewre      1521.0   95.0  \n",
       "5  random_society      1170.0   38.0  \n",
       "6         Jaades       2732.0  204.0  "
      ]
     },
     "execution_count": 34,
     "metadata": {},
     "output_type": "execute_result"
    }
   ],
   "source": [
    "data.head()"
   ]
  },
  {
   "cell_type": "code",
   "execution_count": 35,
   "metadata": {},
   "outputs": [
    {
     "name": "stdout",
     "output_type": "stream",
     "text": [
      "count     7789.000000\n",
      "mean       106.614585\n",
      "std        491.793565\n",
      "min          8.000000\n",
      "25%         50.000000\n",
      "50%         70.000000\n",
      "75%        110.000000\n",
      "max      42278.000000\n",
      "Name: Price, dtype: float64\n"
     ]
    },
    {
     "data": {
      "image/png": "[encoded data removed]",
      "text/plain": [
       "<Figure size 576x288 with 1 Axes>"
      ]
     },
     "metadata": {
      "needs_background": "light"
     },
     "output_type": "display_data"
    }
   ],
   "source": [
    "# thats clear that target column is right skewd\n",
    "print(data.Price.describe())\n",
    "\n",
    "#Let us first analyze the distribution of the target variable\n",
    "plt.figure(figsize=[8,4])\n",
    "sns.distplot(data['Price'], color='g',hist_kws=dict(edgecolor=\"black\", linewidth=2), bins=100)\n",
    "plt.title('Target Variable Distribution - Median Value of Homes ($1Ms)')\n",
    "# plt.xlim(-100,5000)\n",
    "plt.show()"
   ]
  },
  {
   "cell_type": "markdown",
   "metadata": {},
   "source": [
    "# Apply the Box-Cox Transformation"
   ]
  },
  {
   "cell_type": "code",
   "execution_count": 36,
   "metadata": {},
   "outputs": [
    {
     "name": "stdout",
     "output_type": "stream",
     "text": [
      "Lambda value: -0.3112654888236359\n"
     ]
    }
   ],
   "source": [
    "from scipy import stats\n",
    "transformed_data, lambda_value = stats.boxcox(data['Price'])\n",
    "\n",
    "print(\"Lambda value:\", lambda_value)\n",
    "\n",
    "# replace with original Price column\n",
    "data['Price'] = transformed_data"
   ]
  },
  {
   "cell_type": "markdown",
   "metadata": {},
   "source": [
    "### check the transformation"
   ]
  },
  {
   "cell_type": "code",
   "execution_count": 37,
   "metadata": {},
   "outputs": [
    {
     "data": {
      "image/png": "[encoded data removed]",
      "text/plain": [
       "<Figure size 576x288 with 1 Axes>"
      ]
     },
     "metadata": {
      "needs_background": "light"
     },
     "output_type": "display_data"
    }
   ],
   "source": [
    "#Let us first analyze the distribution of the target variable\n",
    "plt.figure(figsize=[8,4])\n",
    "sns.distplot(transformed_data, color='g',hist_kws=dict(edgecolor=\"black\", linewidth=2), bins=100)\n",
    "plt.title('Target Variable Distribution - Median Value of houses')\n",
    "# plt.xlim(-100,5000)\n",
    "plt.show()"
   ]
  },
  {
   "cell_type": "code",
   "execution_count": 38,
   "metadata": {},
   "outputs": [
    {
     "data": {
      "image/png": "[encoded data removed]",
      "text/plain": [
       "<Figure size 432x288 with 1 Axes>"
      ]
     },
     "metadata": {
      "needs_background": "light"
     },
     "output_type": "display_data"
    },
    {
     "data": {
      "text/plain": [
       "count    7789.000000\n",
       "mean        2.565413\n",
       "std         0.788164\n",
       "min         1.000000\n",
       "25%         2.000000\n",
       "50%         3.000000\n",
       "75%         3.000000\n",
       "max        18.000000\n",
       "Name: size, dtype: float64"
      ]
     },
     "execution_count": 38,
     "metadata": {},
     "output_type": "execute_result"
    }
   ],
   "source": [
    "data['size'].plot.kde()\n",
    "plt.show()\n",
    "data['size'].describe()"
   ]
  },
  {
   "cell_type": "code",
   "execution_count": 39,
   "metadata": {},
   "outputs": [
    {
     "data": {
      "text/plain": [
       "count     7789.000000\n",
       "mean      1549.521229\n",
       "std        984.678169\n",
       "min         11.000000\n",
       "25%       1125.000000\n",
       "50%       1326.000000\n",
       "75%       1692.000000\n",
       "max      36000.000000\n",
       "Name: total_sqft, dtype: float64"
      ]
     },
     "execution_count": 39,
     "metadata": {},
     "output_type": "execute_result"
    },
    {
     "data": {
      "image/png": "[encoded data removed]",
      "text/plain": [
       "<Figure size 432x288 with 1 Axes>"
      ]
     },
     "metadata": {
      "needs_background": "light"
     },
     "output_type": "display_data"
    }
   ],
   "source": [
    "data.total_sqft.plot.kde()\n",
    "\n",
    "data.total_sqft.describe()"
   ]
  },
  {
   "cell_type": "code",
   "execution_count": 40,
   "metadata": {},
   "outputs": [],
   "source": [
    "data.reset_index(drop=True, inplace=True)\n",
    "\n",
    "#  Seperate the X and Y variables\n",
    "X= data.drop(['Price'],axis=1)\n",
    "Y= data['Price']"
   ]
  },
  {
   "cell_type": "code",
   "execution_count": 41,
   "metadata": {},
   "outputs": [
    {
     "data": {
      "text/html": [
       "<div>\n",
       "<style scoped>\n",
       "    .dataframe tbody tr th:only-of-type {\n",
       "        vertical-align: middle;\n",
       "    }\n",
       "\n",
       "    .dataframe tbody tr th {\n",
       "        vertical-align: top;\n",
       "    }\n",
       "\n",
       "    .dataframe thead th {\n",
       "        text-align: right;\n",
       "    }\n",
       "</style>\n",
       "<table border=\"1\" class=\"dataframe\">\n",
       "  <thead>\n",
       "    <tr style=\"text-align: right;\">\n",
       "      <th></th>\n",
       "      <th>area_type</th>\n",
       "      <th>availability</th>\n",
       "      <th>location</th>\n",
       "      <th>size</th>\n",
       "      <th>society</th>\n",
       "      <th>total_sqft</th>\n",
       "      <th>Price</th>\n",
       "    </tr>\n",
       "  </thead>\n",
       "  <tbody>\n",
       "    <tr>\n",
       "      <th>0</th>\n",
       "      <td>Super built-up  Area</td>\n",
       "      <td>Dec</td>\n",
       "      <td>Electronic City Phase II</td>\n",
       "      <td>2.0</td>\n",
       "      <td>random_society</td>\n",
       "      <td>1056.0</td>\n",
       "      <td>2.185561</td>\n",
       "    </tr>\n",
       "    <tr>\n",
       "      <th>1</th>\n",
       "      <td>Plot  Area</td>\n",
       "      <td>Ready</td>\n",
       "      <td>Chikka Tirupathi</td>\n",
       "      <td>4.0</td>\n",
       "      <td>Theanmp</td>\n",
       "      <td>2600.0</td>\n",
       "      <td>2.488770</td>\n",
       "    </tr>\n",
       "    <tr>\n",
       "      <th>2</th>\n",
       "      <td>Super built-up  Area</td>\n",
       "      <td>Ready</td>\n",
       "      <td>Lingadheeranahalli</td>\n",
       "      <td>3.0</td>\n",
       "      <td>Soiewre</td>\n",
       "      <td>1521.0</td>\n",
       "      <td>2.434168</td>\n",
       "    </tr>\n",
       "    <tr>\n",
       "      <th>3</th>\n",
       "      <td>Super built-up  Area</td>\n",
       "      <td>Ready</td>\n",
       "      <td>Whitefield</td>\n",
       "      <td>2.0</td>\n",
       "      <td>random_society</td>\n",
       "      <td>1170.0</td>\n",
       "      <td>2.177223</td>\n",
       "    </tr>\n",
       "    <tr>\n",
       "      <th>4</th>\n",
       "      <td>Super built-up  Area</td>\n",
       "      <td>May</td>\n",
       "      <td>Old Airport Road</td>\n",
       "      <td>4.0</td>\n",
       "      <td>Jaades</td>\n",
       "      <td>2732.0</td>\n",
       "      <td>2.598985</td>\n",
       "    </tr>\n",
       "  </tbody>\n",
       "</table>\n",
       "</div>"
      ],
      "text/plain": [
       "              area_type availability                  location  size  \\\n",
       "0  Super built-up  Area          Dec  Electronic City Phase II   2.0   \n",
       "1            Plot  Area        Ready          Chikka Tirupathi   4.0   \n",
       "2  Super built-up  Area        Ready        Lingadheeranahalli   3.0   \n",
       "3  Super built-up  Area        Ready                Whitefield   2.0   \n",
       "4  Super built-up  Area          May          Old Airport Road   4.0   \n",
       "\n",
       "          society  total_sqft     Price  \n",
       "0  random_society      1056.0  2.185561  \n",
       "1         Theanmp      2600.0  2.488770  \n",
       "2         Soiewre      1521.0  2.434168  \n",
       "3  random_society      1170.0  2.177223  \n",
       "4         Jaades       2732.0  2.598985  "
      ]
     },
     "execution_count": 41,
     "metadata": {},
     "output_type": "execute_result"
    }
   ],
   "source": [
    "data.head()"
   ]
  },
  {
   "cell_type": "markdown",
   "metadata": {},
   "source": [
    "#### Outliers Treatment"
   ]
  },
  {
   "cell_type": "code",
   "execution_count": 42,
   "metadata": {},
   "outputs": [
    {
     "data": {
      "text/html": [
       "<div>\n",
       "<style scoped>\n",
       "    .dataframe tbody tr th:only-of-type {\n",
       "        vertical-align: middle;\n",
       "    }\n",
       "\n",
       "    .dataframe tbody tr th {\n",
       "        vertical-align: top;\n",
       "    }\n",
       "\n",
       "    .dataframe thead th {\n",
       "        text-align: right;\n",
       "    }\n",
       "</style>\n",
       "<table border=\"1\" class=\"dataframe\">\n",
       "  <thead>\n",
       "    <tr style=\"text-align: right;\">\n",
       "      <th></th>\n",
       "      <th>size</th>\n",
       "      <th>total_sqft</th>\n",
       "    </tr>\n",
       "  </thead>\n",
       "  <tbody>\n",
       "    <tr>\n",
       "      <th>count</th>\n",
       "      <td>7789.000000</td>\n",
       "      <td>7789.000000</td>\n",
       "    </tr>\n",
       "    <tr>\n",
       "      <th>mean</th>\n",
       "      <td>2.551034</td>\n",
       "      <td>1528.121145</td>\n",
       "    </tr>\n",
       "    <tr>\n",
       "      <th>std</th>\n",
       "      <td>0.721395</td>\n",
       "      <td>725.696331</td>\n",
       "    </tr>\n",
       "    <tr>\n",
       "      <th>min</th>\n",
       "      <td>1.000000</td>\n",
       "      <td>525.000000</td>\n",
       "    </tr>\n",
       "    <tr>\n",
       "      <th>0.1%</th>\n",
       "      <td>1.000000</td>\n",
       "      <td>525.000000</td>\n",
       "    </tr>\n",
       "    <tr>\n",
       "      <th>1%</th>\n",
       "      <td>1.000000</td>\n",
       "      <td>525.000000</td>\n",
       "    </tr>\n",
       "    <tr>\n",
       "      <th>10%</th>\n",
       "      <td>2.000000</td>\n",
       "      <td>950.000000</td>\n",
       "    </tr>\n",
       "    <tr>\n",
       "      <th>25%</th>\n",
       "      <td>2.000000</td>\n",
       "      <td>1125.000000</td>\n",
       "    </tr>\n",
       "    <tr>\n",
       "      <th>50%</th>\n",
       "      <td>3.000000</td>\n",
       "      <td>1326.000000</td>\n",
       "    </tr>\n",
       "    <tr>\n",
       "      <th>75%</th>\n",
       "      <td>3.000000</td>\n",
       "      <td>1692.000000</td>\n",
       "    </tr>\n",
       "    <tr>\n",
       "      <th>95%</th>\n",
       "      <td>4.000000</td>\n",
       "      <td>3123.200000</td>\n",
       "    </tr>\n",
       "    <tr>\n",
       "      <th>99%</th>\n",
       "      <td>4.000000</td>\n",
       "      <td>4772.403200</td>\n",
       "    </tr>\n",
       "    <tr>\n",
       "      <th>99.9%</th>\n",
       "      <td>4.000000</td>\n",
       "      <td>4775.360000</td>\n",
       "    </tr>\n",
       "    <tr>\n",
       "      <th>max</th>\n",
       "      <td>4.000000</td>\n",
       "      <td>4775.360000</td>\n",
       "    </tr>\n",
       "  </tbody>\n",
       "</table>\n",
       "</div>"
      ],
      "text/plain": [
       "              size   total_sqft\n",
       "count  7789.000000  7789.000000\n",
       "mean      2.551034  1528.121145\n",
       "std       0.721395   725.696331\n",
       "min       1.000000   525.000000\n",
       "0.1%      1.000000   525.000000\n",
       "1%        1.000000   525.000000\n",
       "10%       2.000000   950.000000\n",
       "25%       2.000000  1125.000000\n",
       "50%       3.000000  1326.000000\n",
       "75%       3.000000  1692.000000\n",
       "95%       4.000000  3123.200000\n",
       "99%       4.000000  4772.403200\n",
       "99.9%     4.000000  4775.360000\n",
       "max       4.000000  4775.360000"
      ]
     },
     "execution_count": 42,
     "metadata": {},
     "output_type": "execute_result"
    }
   ],
   "source": [
    "num = X.select_dtypes('number')\n",
    "\n",
    "# clip the outliers\n",
    "def outlier_cap(x):\n",
    "    x=x.clip(lower=x.quantile(0.01))\n",
    "    x=x.clip(upper=x.quantile(0.99))\n",
    "    return(x)\n",
    "\n",
    "# capping and flooring of 0.1% ensures the minimal SD impact on the dataset\n",
    "num=num.apply(lambda x : outlier_cap(x))  \n",
    "\n",
    "# dataset after outlier Treatment\n",
    "num.describe([0.001,0.01, 0.1, 0.25, 0.5,0.75,0.95,0.99,0.999])"
   ]
  },
  {
   "cell_type": "code",
   "execution_count": 43,
   "metadata": {},
   "outputs": [
    {
     "data": {
      "text/html": [
       "<div>\n",
       "<style scoped>\n",
       "    .dataframe tbody tr th:only-of-type {\n",
       "        vertical-align: middle;\n",
       "    }\n",
       "\n",
       "    .dataframe tbody tr th {\n",
       "        vertical-align: top;\n",
       "    }\n",
       "\n",
       "    .dataframe thead th {\n",
       "        text-align: right;\n",
       "    }\n",
       "</style>\n",
       "<table border=\"1\" class=\"dataframe\">\n",
       "  <thead>\n",
       "    <tr style=\"text-align: right;\">\n",
       "      <th></th>\n",
       "      <th>size</th>\n",
       "      <th>total_sqft</th>\n",
       "      <th>area_type</th>\n",
       "      <th>availability</th>\n",
       "      <th>location</th>\n",
       "      <th>society</th>\n",
       "    </tr>\n",
       "  </thead>\n",
       "  <tbody>\n",
       "    <tr>\n",
       "      <th>0</th>\n",
       "      <td>2.0</td>\n",
       "      <td>1056.0</td>\n",
       "      <td>Super built-up  Area</td>\n",
       "      <td>Dec</td>\n",
       "      <td>Electronic City Phase II</td>\n",
       "      <td>random_society</td>\n",
       "    </tr>\n",
       "    <tr>\n",
       "      <th>1</th>\n",
       "      <td>4.0</td>\n",
       "      <td>2600.0</td>\n",
       "      <td>Plot  Area</td>\n",
       "      <td>Ready</td>\n",
       "      <td>Chikka Tirupathi</td>\n",
       "      <td>Theanmp</td>\n",
       "    </tr>\n",
       "    <tr>\n",
       "      <th>2</th>\n",
       "      <td>3.0</td>\n",
       "      <td>1521.0</td>\n",
       "      <td>Super built-up  Area</td>\n",
       "      <td>Ready</td>\n",
       "      <td>Lingadheeranahalli</td>\n",
       "      <td>Soiewre</td>\n",
       "    </tr>\n",
       "    <tr>\n",
       "      <th>3</th>\n",
       "      <td>2.0</td>\n",
       "      <td>1170.0</td>\n",
       "      <td>Super built-up  Area</td>\n",
       "      <td>Ready</td>\n",
       "      <td>Whitefield</td>\n",
       "      <td>random_society</td>\n",
       "    </tr>\n",
       "    <tr>\n",
       "      <th>4</th>\n",
       "      <td>4.0</td>\n",
       "      <td>2732.0</td>\n",
       "      <td>Super built-up  Area</td>\n",
       "      <td>May</td>\n",
       "      <td>Old Airport Road</td>\n",
       "      <td>Jaades</td>\n",
       "    </tr>\n",
       "    <tr>\n",
       "      <th>...</th>\n",
       "      <td>...</td>\n",
       "      <td>...</td>\n",
       "      <td>...</td>\n",
       "      <td>...</td>\n",
       "      <td>...</td>\n",
       "      <td>...</td>\n",
       "    </tr>\n",
       "    <tr>\n",
       "      <th>7784</th>\n",
       "      <td>3.0</td>\n",
       "      <td>1345.0</td>\n",
       "      <td>Super built-up  Area</td>\n",
       "      <td>Ready</td>\n",
       "      <td>Uttarahalli</td>\n",
       "      <td>Aklia R</td>\n",
       "    </tr>\n",
       "    <tr>\n",
       "      <th>7785</th>\n",
       "      <td>3.0</td>\n",
       "      <td>1715.0</td>\n",
       "      <td>Super built-up  Area</td>\n",
       "      <td>Ready</td>\n",
       "      <td>Green Glen Layout</td>\n",
       "      <td>random_society</td>\n",
       "    </tr>\n",
       "    <tr>\n",
       "      <th>7786</th>\n",
       "      <td>4.0</td>\n",
       "      <td>3453.0</td>\n",
       "      <td>Built-up  Area</td>\n",
       "      <td>Ready</td>\n",
       "      <td>Whitefield</td>\n",
       "      <td>random_society</td>\n",
       "    </tr>\n",
       "    <tr>\n",
       "      <th>7787</th>\n",
       "      <td>2.0</td>\n",
       "      <td>1141.0</td>\n",
       "      <td>Built-up  Area</td>\n",
       "      <td>Ready</td>\n",
       "      <td>Raja Rajeshwari Nagar</td>\n",
       "      <td>random_society</td>\n",
       "    </tr>\n",
       "    <tr>\n",
       "      <th>7788</th>\n",
       "      <td>4.0</td>\n",
       "      <td>4689.0</td>\n",
       "      <td>Super built-up  Area</td>\n",
       "      <td>Jun</td>\n",
       "      <td>Padmanabhanagar</td>\n",
       "      <td>random_society</td>\n",
       "    </tr>\n",
       "  </tbody>\n",
       "</table>\n",
       "<p>7789 rows × 6 columns</p>\n",
       "</div>"
      ],
      "text/plain": [
       "      size  total_sqft             area_type availability  \\\n",
       "0      2.0      1056.0  Super built-up  Area          Dec   \n",
       "1      4.0      2600.0            Plot  Area        Ready   \n",
       "2      3.0      1521.0  Super built-up  Area        Ready   \n",
       "3      2.0      1170.0  Super built-up  Area        Ready   \n",
       "4      4.0      2732.0  Super built-up  Area          May   \n",
       "...    ...         ...                   ...          ...   \n",
       "7784   3.0      1345.0  Super built-up  Area        Ready   \n",
       "7785   3.0      1715.0  Super built-up  Area        Ready   \n",
       "7786   4.0      3453.0        Built-up  Area        Ready   \n",
       "7787   2.0      1141.0        Built-up  Area        Ready   \n",
       "7788   4.0      4689.0  Super built-up  Area          Jun   \n",
       "\n",
       "                      location         society  \n",
       "0     Electronic City Phase II  random_society  \n",
       "1             Chikka Tirupathi         Theanmp  \n",
       "2           Lingadheeranahalli         Soiewre  \n",
       "3                   Whitefield  random_society  \n",
       "4             Old Airport Road         Jaades   \n",
       "...                        ...             ...  \n",
       "7784               Uttarahalli         Aklia R  \n",
       "7785         Green Glen Layout  random_society  \n",
       "7786                Whitefield  random_society  \n",
       "7787     Raja Rajeshwari Nagar  random_society  \n",
       "7788           Padmanabhanagar  random_society  \n",
       "\n",
       "[7789 rows x 6 columns]"
      ]
     },
     "execution_count": 43,
     "metadata": {},
     "output_type": "execute_result"
    }
   ],
   "source": [
    "x_all = pd.concat([num,data.select_dtypes('O')],axis=1, join=\"inner\")\n",
    "x_all"
   ]
  },
  {
   "cell_type": "markdown",
   "metadata": {},
   "source": [
    "### One Hot Encode"
   ]
  },
  {
   "cell_type": "code",
   "execution_count": 44,
   "metadata": {},
   "outputs": [
    {
     "data": {
      "text/html": [
       "<div>\n",
       "<style scoped>\n",
       "    .dataframe tbody tr th:only-of-type {\n",
       "        vertical-align: middle;\n",
       "    }\n",
       "\n",
       "    .dataframe tbody tr th {\n",
       "        vertical-align: top;\n",
       "    }\n",
       "\n",
       "    .dataframe thead th {\n",
       "        text-align: right;\n",
       "    }\n",
       "</style>\n",
       "<table border=\"1\" class=\"dataframe\">\n",
       "  <thead>\n",
       "    <tr style=\"text-align: right;\">\n",
       "      <th></th>\n",
       "      <th>size</th>\n",
       "      <th>total_sqft</th>\n",
       "      <th>area_type_Carpet  Area</th>\n",
       "      <th>area_type_Plot  Area</th>\n",
       "      <th>area_type_Super built-up  Area</th>\n",
       "      <th>availability_Aug</th>\n",
       "      <th>availability_Dec</th>\n",
       "      <th>availability_Feb</th>\n",
       "      <th>availability_Jan</th>\n",
       "      <th>availability_Jul</th>\n",
       "      <th>...</th>\n",
       "      <th>society_Usquaya</th>\n",
       "      <th>society_VBn 2lm</th>\n",
       "      <th>society_VBownre</th>\n",
       "      <th>society_Vaharvi</th>\n",
       "      <th>society_Vaniai</th>\n",
       "      <th>society_ViensRK</th>\n",
       "      <th>society_ViistLa</th>\n",
       "      <th>society_Vrenty</th>\n",
       "      <th>society_Wiowsri</th>\n",
       "      <th>society_random_society</th>\n",
       "    </tr>\n",
       "  </thead>\n",
       "  <tbody>\n",
       "    <tr>\n",
       "      <th>0</th>\n",
       "      <td>2.0</td>\n",
       "      <td>1056.0</td>\n",
       "      <td>0</td>\n",
       "      <td>0</td>\n",
       "      <td>1</td>\n",
       "      <td>0</td>\n",
       "      <td>1</td>\n",
       "      <td>0</td>\n",
       "      <td>0</td>\n",
       "      <td>0</td>\n",
       "      <td>...</td>\n",
       "      <td>0</td>\n",
       "      <td>0</td>\n",
       "      <td>0</td>\n",
       "      <td>0</td>\n",
       "      <td>0</td>\n",
       "      <td>0</td>\n",
       "      <td>0</td>\n",
       "      <td>0</td>\n",
       "      <td>0</td>\n",
       "      <td>1</td>\n",
       "    </tr>\n",
       "    <tr>\n",
       "      <th>1</th>\n",
       "      <td>4.0</td>\n",
       "      <td>2600.0</td>\n",
       "      <td>0</td>\n",
       "      <td>1</td>\n",
       "      <td>0</td>\n",
       "      <td>0</td>\n",
       "      <td>0</td>\n",
       "      <td>0</td>\n",
       "      <td>0</td>\n",
       "      <td>0</td>\n",
       "      <td>...</td>\n",
       "      <td>0</td>\n",
       "      <td>0</td>\n",
       "      <td>0</td>\n",
       "      <td>0</td>\n",
       "      <td>0</td>\n",
       "      <td>0</td>\n",
       "      <td>0</td>\n",
       "      <td>0</td>\n",
       "      <td>0</td>\n",
       "      <td>0</td>\n",
       "    </tr>\n",
       "    <tr>\n",
       "      <th>2</th>\n",
       "      <td>3.0</td>\n",
       "      <td>1521.0</td>\n",
       "      <td>0</td>\n",
       "      <td>0</td>\n",
       "      <td>1</td>\n",
       "      <td>0</td>\n",
       "      <td>0</td>\n",
       "      <td>0</td>\n",
       "      <td>0</td>\n",
       "      <td>0</td>\n",
       "      <td>...</td>\n",
       "      <td>0</td>\n",
       "      <td>0</td>\n",
       "      <td>0</td>\n",
       "      <td>0</td>\n",
       "      <td>0</td>\n",
       "      <td>0</td>\n",
       "      <td>0</td>\n",
       "      <td>0</td>\n",
       "      <td>0</td>\n",
       "      <td>0</td>\n",
       "    </tr>\n",
       "    <tr>\n",
       "      <th>3</th>\n",
       "      <td>2.0</td>\n",
       "      <td>1170.0</td>\n",
       "      <td>0</td>\n",
       "      <td>0</td>\n",
       "      <td>1</td>\n",
       "      <td>0</td>\n",
       "      <td>0</td>\n",
       "      <td>0</td>\n",
       "      <td>0</td>\n",
       "      <td>0</td>\n",
       "      <td>...</td>\n",
       "      <td>0</td>\n",
       "      <td>0</td>\n",
       "      <td>0</td>\n",
       "      <td>0</td>\n",
       "      <td>0</td>\n",
       "      <td>0</td>\n",
       "      <td>0</td>\n",
       "      <td>0</td>\n",
       "      <td>0</td>\n",
       "      <td>1</td>\n",
       "    </tr>\n",
       "    <tr>\n",
       "      <th>4</th>\n",
       "      <td>4.0</td>\n",
       "      <td>2732.0</td>\n",
       "      <td>0</td>\n",
       "      <td>0</td>\n",
       "      <td>1</td>\n",
       "      <td>0</td>\n",
       "      <td>0</td>\n",
       "      <td>0</td>\n",
       "      <td>0</td>\n",
       "      <td>0</td>\n",
       "      <td>...</td>\n",
       "      <td>0</td>\n",
       "      <td>0</td>\n",
       "      <td>0</td>\n",
       "      <td>0</td>\n",
       "      <td>0</td>\n",
       "      <td>0</td>\n",
       "      <td>0</td>\n",
       "      <td>0</td>\n",
       "      <td>0</td>\n",
       "      <td>0</td>\n",
       "    </tr>\n",
       "    <tr>\n",
       "      <th>...</th>\n",
       "      <td>...</td>\n",
       "      <td>...</td>\n",
       "      <td>...</td>\n",
       "      <td>...</td>\n",
       "      <td>...</td>\n",
       "      <td>...</td>\n",
       "      <td>...</td>\n",
       "      <td>...</td>\n",
       "      <td>...</td>\n",
       "      <td>...</td>\n",
       "      <td>...</td>\n",
       "      <td>...</td>\n",
       "      <td>...</td>\n",
       "      <td>...</td>\n",
       "      <td>...</td>\n",
       "      <td>...</td>\n",
       "      <td>...</td>\n",
       "      <td>...</td>\n",
       "      <td>...</td>\n",
       "      <td>...</td>\n",
       "      <td>...</td>\n",
       "    </tr>\n",
       "    <tr>\n",
       "      <th>7784</th>\n",
       "      <td>3.0</td>\n",
       "      <td>1345.0</td>\n",
       "      <td>0</td>\n",
       "      <td>0</td>\n",
       "      <td>1</td>\n",
       "      <td>0</td>\n",
       "      <td>0</td>\n",
       "      <td>0</td>\n",
       "      <td>0</td>\n",
       "      <td>0</td>\n",
       "      <td>...</td>\n",
       "      <td>0</td>\n",
       "      <td>0</td>\n",
       "      <td>0</td>\n",
       "      <td>0</td>\n",
       "      <td>0</td>\n",
       "      <td>0</td>\n",
       "      <td>0</td>\n",
       "      <td>0</td>\n",
       "      <td>0</td>\n",
       "      <td>0</td>\n",
       "    </tr>\n",
       "    <tr>\n",
       "      <th>7785</th>\n",
       "      <td>3.0</td>\n",
       "      <td>1715.0</td>\n",
       "      <td>0</td>\n",
       "      <td>0</td>\n",
       "      <td>1</td>\n",
       "      <td>0</td>\n",
       "      <td>0</td>\n",
       "      <td>0</td>\n",
       "      <td>0</td>\n",
       "      <td>0</td>\n",
       "      <td>...</td>\n",
       "      <td>0</td>\n",
       "      <td>0</td>\n",
       "      <td>0</td>\n",
       "      <td>0</td>\n",
       "      <td>0</td>\n",
       "      <td>0</td>\n",
       "      <td>0</td>\n",
       "      <td>0</td>\n",
       "      <td>0</td>\n",
       "      <td>1</td>\n",
       "    </tr>\n",
       "    <tr>\n",
       "      <th>7786</th>\n",
       "      <td>4.0</td>\n",
       "      <td>3453.0</td>\n",
       "      <td>0</td>\n",
       "      <td>0</td>\n",
       "      <td>0</td>\n",
       "      <td>0</td>\n",
       "      <td>0</td>\n",
       "      <td>0</td>\n",
       "      <td>0</td>\n",
       "      <td>0</td>\n",
       "      <td>...</td>\n",
       "      <td>0</td>\n",
       "      <td>0</td>\n",
       "      <td>0</td>\n",
       "      <td>0</td>\n",
       "      <td>0</td>\n",
       "      <td>0</td>\n",
       "      <td>0</td>\n",
       "      <td>0</td>\n",
       "      <td>0</td>\n",
       "      <td>1</td>\n",
       "    </tr>\n",
       "    <tr>\n",
       "      <th>7787</th>\n",
       "      <td>2.0</td>\n",
       "      <td>1141.0</td>\n",
       "      <td>0</td>\n",
       "      <td>0</td>\n",
       "      <td>0</td>\n",
       "      <td>0</td>\n",
       "      <td>0</td>\n",
       "      <td>0</td>\n",
       "      <td>0</td>\n",
       "      <td>0</td>\n",
       "      <td>...</td>\n",
       "      <td>0</td>\n",
       "      <td>0</td>\n",
       "      <td>0</td>\n",
       "      <td>0</td>\n",
       "      <td>0</td>\n",
       "      <td>0</td>\n",
       "      <td>0</td>\n",
       "      <td>0</td>\n",
       "      <td>0</td>\n",
       "      <td>1</td>\n",
       "    </tr>\n",
       "    <tr>\n",
       "      <th>7788</th>\n",
       "      <td>4.0</td>\n",
       "      <td>4689.0</td>\n",
       "      <td>0</td>\n",
       "      <td>0</td>\n",
       "      <td>1</td>\n",
       "      <td>0</td>\n",
       "      <td>0</td>\n",
       "      <td>0</td>\n",
       "      <td>0</td>\n",
       "      <td>0</td>\n",
       "      <td>...</td>\n",
       "      <td>0</td>\n",
       "      <td>0</td>\n",
       "      <td>0</td>\n",
       "      <td>0</td>\n",
       "      <td>0</td>\n",
       "      <td>0</td>\n",
       "      <td>0</td>\n",
       "      <td>0</td>\n",
       "      <td>0</td>\n",
       "      <td>1</td>\n",
       "    </tr>\n",
       "  </tbody>\n",
       "</table>\n",
       "<p>7789 rows × 554 columns</p>\n",
       "</div>"
      ],
      "text/plain": [
       "      size  total_sqft  area_type_Carpet  Area  area_type_Plot  Area  \\\n",
       "0      2.0      1056.0                       0                     0   \n",
       "1      4.0      2600.0                       0                     1   \n",
       "2      3.0      1521.0                       0                     0   \n",
       "3      2.0      1170.0                       0                     0   \n",
       "4      4.0      2732.0                       0                     0   \n",
       "...    ...         ...                     ...                   ...   \n",
       "7784   3.0      1345.0                       0                     0   \n",
       "7785   3.0      1715.0                       0                     0   \n",
       "7786   4.0      3453.0                       0                     0   \n",
       "7787   2.0      1141.0                       0                     0   \n",
       "7788   4.0      4689.0                       0                     0   \n",
       "\n",
       "      area_type_Super built-up  Area  availability_Aug  availability_Dec  \\\n",
       "0                                  1                 0                 1   \n",
       "1                                  0                 0                 0   \n",
       "2                                  1                 0                 0   \n",
       "3                                  1                 0                 0   \n",
       "4                                  1                 0                 0   \n",
       "...                              ...               ...               ...   \n",
       "7784                               1                 0                 0   \n",
       "7785                               1                 0                 0   \n",
       "7786                               0                 0                 0   \n",
       "7787                               0                 0                 0   \n",
       "7788                               1                 0                 0   \n",
       "\n",
       "      availability_Feb  availability_Jan  availability_Jul  ...  \\\n",
       "0                    0                 0                 0  ...   \n",
       "1                    0                 0                 0  ...   \n",
       "2                    0                 0                 0  ...   \n",
       "3                    0                 0                 0  ...   \n",
       "4                    0                 0                 0  ...   \n",
       "...                ...               ...               ...  ...   \n",
       "7784                 0                 0                 0  ...   \n",
       "7785                 0                 0                 0  ...   \n",
       "7786                 0                 0                 0  ...   \n",
       "7787                 0                 0                 0  ...   \n",
       "7788                 0                 0                 0  ...   \n",
       "\n",
       "      society_Usquaya  society_VBn 2lm  society_VBownre  society_Vaharvi  \\\n",
       "0                   0                0                0                0   \n",
       "1                   0                0                0                0   \n",
       "2                   0                0                0                0   \n",
       "3                   0                0                0                0   \n",
       "4                   0                0                0                0   \n",
       "...               ...              ...              ...              ...   \n",
       "7784                0                0                0                0   \n",
       "7785                0                0                0                0   \n",
       "7786                0                0                0                0   \n",
       "7787                0                0                0                0   \n",
       "7788                0                0                0                0   \n",
       "\n",
       "      society_Vaniai   society_ViensRK  society_ViistLa  society_Vrenty   \\\n",
       "0                   0                0                0                0   \n",
       "1                   0                0                0                0   \n",
       "2                   0                0                0                0   \n",
       "3                   0                0                0                0   \n",
       "4                   0                0                0                0   \n",
       "...               ...              ...              ...              ...   \n",
       "7784                0                0                0                0   \n",
       "7785                0                0                0                0   \n",
       "7786                0                0                0                0   \n",
       "7787                0                0                0                0   \n",
       "7788                0                0                0                0   \n",
       "\n",
       "      society_Wiowsri  society_random_society  \n",
       "0                   0                       1  \n",
       "1                   0                       0  \n",
       "2                   0                       0  \n",
       "3                   0                       1  \n",
       "4                   0                       0  \n",
       "...               ...                     ...  \n",
       "7784                0                       0  \n",
       "7785                0                       1  \n",
       "7786                0                       1  \n",
       "7787                0                       1  \n",
       "7788                0                       1  \n",
       "\n",
       "[7789 rows x 554 columns]"
      ]
     },
     "execution_count": 44,
     "metadata": {},
     "output_type": "execute_result"
    }
   ],
   "source": [
    "df = pd.get_dummies(x_all,drop_first=True)\n",
    "df"
   ]
  },
  {
   "cell_type": "markdown",
   "metadata": {},
   "source": [
    "### Scale the data"
   ]
  },
  {
   "cell_type": "code",
   "execution_count": 45,
   "metadata": {},
   "outputs": [
    {
     "data": {
      "text/html": [
       "<div>\n",
       "<style scoped>\n",
       "    .dataframe tbody tr th:only-of-type {\n",
       "        vertical-align: middle;\n",
       "    }\n",
       "\n",
       "    .dataframe tbody tr th {\n",
       "        vertical-align: top;\n",
       "    }\n",
       "\n",
       "    .dataframe thead th {\n",
       "        text-align: right;\n",
       "    }\n",
       "</style>\n",
       "<table border=\"1\" class=\"dataframe\">\n",
       "  <thead>\n",
       "    <tr style=\"text-align: right;\">\n",
       "      <th></th>\n",
       "      <th>size</th>\n",
       "      <th>total_sqft</th>\n",
       "      <th>area_type_Carpet  Area</th>\n",
       "      <th>area_type_Plot  Area</th>\n",
       "      <th>area_type_Super built-up  Area</th>\n",
       "      <th>availability_Aug</th>\n",
       "      <th>availability_Dec</th>\n",
       "      <th>availability_Feb</th>\n",
       "      <th>availability_Jan</th>\n",
       "      <th>availability_Jul</th>\n",
       "      <th>...</th>\n",
       "      <th>society_Usquaya</th>\n",
       "      <th>society_VBn 2lm</th>\n",
       "      <th>society_VBownre</th>\n",
       "      <th>society_Vaharvi</th>\n",
       "      <th>society_Vaniai</th>\n",
       "      <th>society_ViensRK</th>\n",
       "      <th>society_ViistLa</th>\n",
       "      <th>society_Vrenty</th>\n",
       "      <th>society_Wiowsri</th>\n",
       "      <th>society_random_society</th>\n",
       "    </tr>\n",
       "  </thead>\n",
       "  <tbody>\n",
       "    <tr>\n",
       "      <th>0</th>\n",
       "      <td>-0.763893</td>\n",
       "      <td>-0.650618</td>\n",
       "      <td>-0.082771</td>\n",
       "      <td>-0.197355</td>\n",
       "      <td>0.499639</td>\n",
       "      <td>-0.144356</td>\n",
       "      <td>3.715910</td>\n",
       "      <td>-0.075373</td>\n",
       "      <td>-0.103149</td>\n",
       "      <td>-0.143892</td>\n",
       "      <td>...</td>\n",
       "      <td>-0.034012</td>\n",
       "      <td>-0.029992</td>\n",
       "      <td>-0.027765</td>\n",
       "      <td>-0.029992</td>\n",
       "      <td>-0.032065</td>\n",
       "      <td>-0.035854</td>\n",
       "      <td>-0.054421</td>\n",
       "      <td>-0.037606</td>\n",
       "      <td>-0.037606</td>\n",
       "      <td>0.993219</td>\n",
       "    </tr>\n",
       "    <tr>\n",
       "      <th>1</th>\n",
       "      <td>2.008690</td>\n",
       "      <td>1.477130</td>\n",
       "      <td>-0.082771</td>\n",
       "      <td>5.067017</td>\n",
       "      <td>-2.001445</td>\n",
       "      <td>-0.144356</td>\n",
       "      <td>-0.269113</td>\n",
       "      <td>-0.075373</td>\n",
       "      <td>-0.103149</td>\n",
       "      <td>-0.143892</td>\n",
       "      <td>...</td>\n",
       "      <td>-0.034012</td>\n",
       "      <td>-0.029992</td>\n",
       "      <td>-0.027765</td>\n",
       "      <td>-0.029992</td>\n",
       "      <td>-0.032065</td>\n",
       "      <td>-0.035854</td>\n",
       "      <td>-0.054421</td>\n",
       "      <td>-0.037606</td>\n",
       "      <td>-0.037606</td>\n",
       "      <td>-1.006828</td>\n",
       "    </tr>\n",
       "    <tr>\n",
       "      <th>2</th>\n",
       "      <td>0.622398</td>\n",
       "      <td>-0.009813</td>\n",
       "      <td>-0.082771</td>\n",
       "      <td>-0.197355</td>\n",
       "      <td>0.499639</td>\n",
       "      <td>-0.144356</td>\n",
       "      <td>-0.269113</td>\n",
       "      <td>-0.075373</td>\n",
       "      <td>-0.103149</td>\n",
       "      <td>-0.143892</td>\n",
       "      <td>...</td>\n",
       "      <td>-0.034012</td>\n",
       "      <td>-0.029992</td>\n",
       "      <td>-0.027765</td>\n",
       "      <td>-0.029992</td>\n",
       "      <td>-0.032065</td>\n",
       "      <td>-0.035854</td>\n",
       "      <td>-0.054421</td>\n",
       "      <td>-0.037606</td>\n",
       "      <td>-0.037606</td>\n",
       "      <td>-1.006828</td>\n",
       "    </tr>\n",
       "    <tr>\n",
       "      <th>3</th>\n",
       "      <td>-0.763893</td>\n",
       "      <td>-0.493518</td>\n",
       "      <td>-0.082771</td>\n",
       "      <td>-0.197355</td>\n",
       "      <td>0.499639</td>\n",
       "      <td>-0.144356</td>\n",
       "      <td>-0.269113</td>\n",
       "      <td>-0.075373</td>\n",
       "      <td>-0.103149</td>\n",
       "      <td>-0.143892</td>\n",
       "      <td>...</td>\n",
       "      <td>-0.034012</td>\n",
       "      <td>-0.029992</td>\n",
       "      <td>-0.027765</td>\n",
       "      <td>-0.029992</td>\n",
       "      <td>-0.032065</td>\n",
       "      <td>-0.035854</td>\n",
       "      <td>-0.054421</td>\n",
       "      <td>-0.037606</td>\n",
       "      <td>-0.037606</td>\n",
       "      <td>0.993219</td>\n",
       "    </tr>\n",
       "    <tr>\n",
       "      <th>4</th>\n",
       "      <td>2.008690</td>\n",
       "      <td>1.659036</td>\n",
       "      <td>-0.082771</td>\n",
       "      <td>-0.197355</td>\n",
       "      <td>0.499639</td>\n",
       "      <td>-0.144356</td>\n",
       "      <td>-0.269113</td>\n",
       "      <td>-0.075373</td>\n",
       "      <td>-0.103149</td>\n",
       "      <td>-0.143892</td>\n",
       "      <td>...</td>\n",
       "      <td>-0.034012</td>\n",
       "      <td>-0.029992</td>\n",
       "      <td>-0.027765</td>\n",
       "      <td>-0.029992</td>\n",
       "      <td>-0.032065</td>\n",
       "      <td>-0.035854</td>\n",
       "      <td>-0.054421</td>\n",
       "      <td>-0.037606</td>\n",
       "      <td>-0.037606</td>\n",
       "      <td>-1.006828</td>\n",
       "    </tr>\n",
       "    <tr>\n",
       "      <th>...</th>\n",
       "      <td>...</td>\n",
       "      <td>...</td>\n",
       "      <td>...</td>\n",
       "      <td>...</td>\n",
       "      <td>...</td>\n",
       "      <td>...</td>\n",
       "      <td>...</td>\n",
       "      <td>...</td>\n",
       "      <td>...</td>\n",
       "      <td>...</td>\n",
       "      <td>...</td>\n",
       "      <td>...</td>\n",
       "      <td>...</td>\n",
       "      <td>...</td>\n",
       "      <td>...</td>\n",
       "      <td>...</td>\n",
       "      <td>...</td>\n",
       "      <td>...</td>\n",
       "      <td>...</td>\n",
       "      <td>...</td>\n",
       "      <td>...</td>\n",
       "    </tr>\n",
       "    <tr>\n",
       "      <th>7784</th>\n",
       "      <td>0.622398</td>\n",
       "      <td>-0.252355</td>\n",
       "      <td>-0.082771</td>\n",
       "      <td>-0.197355</td>\n",
       "      <td>0.499639</td>\n",
       "      <td>-0.144356</td>\n",
       "      <td>-0.269113</td>\n",
       "      <td>-0.075373</td>\n",
       "      <td>-0.103149</td>\n",
       "      <td>-0.143892</td>\n",
       "      <td>...</td>\n",
       "      <td>-0.034012</td>\n",
       "      <td>-0.029992</td>\n",
       "      <td>-0.027765</td>\n",
       "      <td>-0.029992</td>\n",
       "      <td>-0.032065</td>\n",
       "      <td>-0.035854</td>\n",
       "      <td>-0.054421</td>\n",
       "      <td>-0.037606</td>\n",
       "      <td>-0.037606</td>\n",
       "      <td>-1.006828</td>\n",
       "    </tr>\n",
       "    <tr>\n",
       "      <th>7785</th>\n",
       "      <td>0.622398</td>\n",
       "      <td>0.257533</td>\n",
       "      <td>-0.082771</td>\n",
       "      <td>-0.197355</td>\n",
       "      <td>0.499639</td>\n",
       "      <td>-0.144356</td>\n",
       "      <td>-0.269113</td>\n",
       "      <td>-0.075373</td>\n",
       "      <td>-0.103149</td>\n",
       "      <td>-0.143892</td>\n",
       "      <td>...</td>\n",
       "      <td>-0.034012</td>\n",
       "      <td>-0.029992</td>\n",
       "      <td>-0.027765</td>\n",
       "      <td>-0.029992</td>\n",
       "      <td>-0.032065</td>\n",
       "      <td>-0.035854</td>\n",
       "      <td>-0.054421</td>\n",
       "      <td>-0.037606</td>\n",
       "      <td>-0.037606</td>\n",
       "      <td>0.993219</td>\n",
       "    </tr>\n",
       "    <tr>\n",
       "      <th>7786</th>\n",
       "      <td>2.008690</td>\n",
       "      <td>2.652628</td>\n",
       "      <td>-0.082771</td>\n",
       "      <td>-0.197355</td>\n",
       "      <td>-2.001445</td>\n",
       "      <td>-0.144356</td>\n",
       "      <td>-0.269113</td>\n",
       "      <td>-0.075373</td>\n",
       "      <td>-0.103149</td>\n",
       "      <td>-0.143892</td>\n",
       "      <td>...</td>\n",
       "      <td>-0.034012</td>\n",
       "      <td>-0.029992</td>\n",
       "      <td>-0.027765</td>\n",
       "      <td>-0.029992</td>\n",
       "      <td>-0.032065</td>\n",
       "      <td>-0.035854</td>\n",
       "      <td>-0.054421</td>\n",
       "      <td>-0.037606</td>\n",
       "      <td>-0.037606</td>\n",
       "      <td>0.993219</td>\n",
       "    </tr>\n",
       "    <tr>\n",
       "      <th>7787</th>\n",
       "      <td>-0.763893</td>\n",
       "      <td>-0.533482</td>\n",
       "      <td>-0.082771</td>\n",
       "      <td>-0.197355</td>\n",
       "      <td>-2.001445</td>\n",
       "      <td>-0.144356</td>\n",
       "      <td>-0.269113</td>\n",
       "      <td>-0.075373</td>\n",
       "      <td>-0.103149</td>\n",
       "      <td>-0.143892</td>\n",
       "      <td>...</td>\n",
       "      <td>-0.034012</td>\n",
       "      <td>-0.029992</td>\n",
       "      <td>-0.027765</td>\n",
       "      <td>-0.029992</td>\n",
       "      <td>-0.032065</td>\n",
       "      <td>-0.035854</td>\n",
       "      <td>-0.054421</td>\n",
       "      <td>-0.037606</td>\n",
       "      <td>-0.037606</td>\n",
       "      <td>0.993219</td>\n",
       "    </tr>\n",
       "    <tr>\n",
       "      <th>7788</th>\n",
       "      <td>2.008690</td>\n",
       "      <td>4.355929</td>\n",
       "      <td>-0.082771</td>\n",
       "      <td>-0.197355</td>\n",
       "      <td>0.499639</td>\n",
       "      <td>-0.144356</td>\n",
       "      <td>-0.269113</td>\n",
       "      <td>-0.075373</td>\n",
       "      <td>-0.103149</td>\n",
       "      <td>-0.143892</td>\n",
       "      <td>...</td>\n",
       "      <td>-0.034012</td>\n",
       "      <td>-0.029992</td>\n",
       "      <td>-0.027765</td>\n",
       "      <td>-0.029992</td>\n",
       "      <td>-0.032065</td>\n",
       "      <td>-0.035854</td>\n",
       "      <td>-0.054421</td>\n",
       "      <td>-0.037606</td>\n",
       "      <td>-0.037606</td>\n",
       "      <td>0.993219</td>\n",
       "    </tr>\n",
       "  </tbody>\n",
       "</table>\n",
       "<p>7789 rows × 554 columns</p>\n",
       "</div>"
      ],
      "text/plain": [
       "          size  total_sqft  area_type_Carpet  Area  area_type_Plot  Area  \\\n",
       "0    -0.763893   -0.650618               -0.082771             -0.197355   \n",
       "1     2.008690    1.477130               -0.082771              5.067017   \n",
       "2     0.622398   -0.009813               -0.082771             -0.197355   \n",
       "3    -0.763893   -0.493518               -0.082771             -0.197355   \n",
       "4     2.008690    1.659036               -0.082771             -0.197355   \n",
       "...        ...         ...                     ...                   ...   \n",
       "7784  0.622398   -0.252355               -0.082771             -0.197355   \n",
       "7785  0.622398    0.257533               -0.082771             -0.197355   \n",
       "7786  2.008690    2.652628               -0.082771             -0.197355   \n",
       "7787 -0.763893   -0.533482               -0.082771             -0.197355   \n",
       "7788  2.008690    4.355929               -0.082771             -0.197355   \n",
       "\n",
       "      area_type_Super built-up  Area  availability_Aug  availability_Dec  \\\n",
       "0                           0.499639         -0.144356          3.715910   \n",
       "1                          -2.001445         -0.144356         -0.269113   \n",
       "2                           0.499639         -0.144356         -0.269113   \n",
       "3                           0.499639         -0.144356         -0.269113   \n",
       "4                           0.499639         -0.144356         -0.269113   \n",
       "...                              ...               ...               ...   \n",
       "7784                        0.499639         -0.144356         -0.269113   \n",
       "7785                        0.499639         -0.144356         -0.269113   \n",
       "7786                       -2.001445         -0.144356         -0.269113   \n",
       "7787                       -2.001445         -0.144356         -0.269113   \n",
       "7788                        0.499639         -0.144356         -0.269113   \n",
       "\n",
       "      availability_Feb  availability_Jan  availability_Jul  ...  \\\n",
       "0            -0.075373         -0.103149         -0.143892  ...   \n",
       "1            -0.075373         -0.103149         -0.143892  ...   \n",
       "2            -0.075373         -0.103149         -0.143892  ...   \n",
       "3            -0.075373         -0.103149         -0.143892  ...   \n",
       "4            -0.075373         -0.103149         -0.143892  ...   \n",
       "...                ...               ...               ...  ...   \n",
       "7784         -0.075373         -0.103149         -0.143892  ...   \n",
       "7785         -0.075373         -0.103149         -0.143892  ...   \n",
       "7786         -0.075373         -0.103149         -0.143892  ...   \n",
       "7787         -0.075373         -0.103149         -0.143892  ...   \n",
       "7788         -0.075373         -0.103149         -0.143892  ...   \n",
       "\n",
       "      society_Usquaya  society_VBn 2lm  society_VBownre  society_Vaharvi  \\\n",
       "0           -0.034012        -0.029992        -0.027765        -0.029992   \n",
       "1           -0.034012        -0.029992        -0.027765        -0.029992   \n",
       "2           -0.034012        -0.029992        -0.027765        -0.029992   \n",
       "3           -0.034012        -0.029992        -0.027765        -0.029992   \n",
       "4           -0.034012        -0.029992        -0.027765        -0.029992   \n",
       "...               ...              ...              ...              ...   \n",
       "7784        -0.034012        -0.029992        -0.027765        -0.029992   \n",
       "7785        -0.034012        -0.029992        -0.027765        -0.029992   \n",
       "7786        -0.034012        -0.029992        -0.027765        -0.029992   \n",
       "7787        -0.034012        -0.029992        -0.027765        -0.029992   \n",
       "7788        -0.034012        -0.029992        -0.027765        -0.029992   \n",
       "\n",
       "      society_Vaniai   society_ViensRK  society_ViistLa  society_Vrenty   \\\n",
       "0           -0.032065        -0.035854        -0.054421        -0.037606   \n",
       "1           -0.032065        -0.035854        -0.054421        -0.037606   \n",
       "2           -0.032065        -0.035854        -0.054421        -0.037606   \n",
       "3           -0.032065        -0.035854        -0.054421        -0.037606   \n",
       "4           -0.032065        -0.035854        -0.054421        -0.037606   \n",
       "...               ...              ...              ...              ...   \n",
       "7784        -0.032065        -0.035854        -0.054421        -0.037606   \n",
       "7785        -0.032065        -0.035854        -0.054421        -0.037606   \n",
       "7786        -0.032065        -0.035854        -0.054421        -0.037606   \n",
       "7787        -0.032065        -0.035854        -0.054421        -0.037606   \n",
       "7788        -0.032065        -0.035854        -0.054421        -0.037606   \n",
       "\n",
       "      society_Wiowsri  society_random_society  \n",
       "0           -0.037606                0.993219  \n",
       "1           -0.037606               -1.006828  \n",
       "2           -0.037606               -1.006828  \n",
       "3           -0.037606                0.993219  \n",
       "4           -0.037606               -1.006828  \n",
       "...               ...                     ...  \n",
       "7784        -0.037606               -1.006828  \n",
       "7785        -0.037606                0.993219  \n",
       "7786        -0.037606                0.993219  \n",
       "7787        -0.037606                0.993219  \n",
       "7788        -0.037606                0.993219  \n",
       "\n",
       "[7789 rows x 554 columns]"
      ]
     },
     "execution_count": 45,
     "metadata": {},
     "output_type": "execute_result"
    }
   ],
   "source": [
    "from sklearn.preprocessing import StandardScaler\n",
    "scaler = StandardScaler()\n",
    "\n",
    "scaler.fit(df)\n",
    "\n",
    "scaled_data = scaler.transform(df)\n",
    "\n",
    "# create the dataframe  after scalling\n",
    "scaled_data = pd.DataFrame(scaled_data, columns=df.columns)\n",
    "\n",
    "# view the data\n",
    "scaled_data"
   ]
  },
  {
   "cell_type": "markdown",
   "metadata": {},
   "source": [
    "### Grouping similar houses into clusters using KMeans."
   ]
  },
  {
   "cell_type": "code",
   "execution_count": 46,
   "metadata": {},
   "outputs": [],
   "source": [
    "from sklearn.cluster import KMeans\n",
    "features = scaled_data.columns\n",
    "\n",
    "kmeans= KMeans(n_clusters=3)\n",
    "kmeans.fit(scaled_data[features])\n",
    "\n",
    "scaled_data['clusters']= kmeans.predict(scaled_data[features])\n",
    "\n",
    "scaled_data['clusters']=kmeans.labels_"
   ]
  },
  {
   "cell_type": "markdown",
   "metadata": {},
   "source": [
    "### PCA"
   ]
  },
  {
   "cell_type": "code",
   "execution_count": 47,
   "metadata": {},
   "outputs": [
    {
     "data": {
      "text/plain": [
       "((7789, 555), (7789, 269))"
      ]
     },
     "execution_count": 47,
     "metadata": {},
     "output_type": "execute_result"
    }
   ],
   "source": [
    "from sklearn.decomposition import PCA\n",
    "pca = PCA(n_components=269)\n",
    "\n",
    "\n",
    "# fit\n",
    "pca.fit(scaled_data)\n",
    "\n",
    "# tramsform\n",
    "x_pca = pca.transform(scaled_data)\n",
    "\n",
    "scaled_data.shape, x_pca.shape"
   ]
  },
  {
   "cell_type": "code",
   "execution_count": 48,
   "metadata": {},
   "outputs": [
    {
     "data": {
      "image/png": "[encoded data removed]",
      "text/plain": [
       "<Figure size 432x288 with 1 Axes>"
      ]
     },
     "metadata": {
      "needs_background": "light"
     },
     "output_type": "display_data"
    }
   ],
   "source": [
    "\n",
    "# Calculate the cumulative sum of explained variance ratios\n",
    "cumulative_variance_ratio = np.cumsum(pca.explained_variance_ratio_)\n",
    "\n",
    "# Plot the scree plot\n",
    "plt.plot(range(1, len(cumulative_variance_ratio) + 1), cumulative_variance_ratio, marker='o', linestyle='-', color='b')\n",
    "plt.xlabel('Number of Components')\n",
    "plt.ylabel('Cumulative Explained Variance')\n",
    "plt.title('Scree Plot')\n",
    "plt.grid(True)\n",
    "plt.show()"
   ]
  },
  {
   "cell_type": "code",
   "execution_count": 49,
   "metadata": {},
   "outputs": [],
   "source": [
    "# split the data in train and test\n",
    "\n",
    "from sklearn.model_selection import train_test_split\n",
    "X_train,X_test,y_train,y_test = train_test_split(x_pca,Y,test_size=0.25,random_state=44)"
   ]
  },
  {
   "cell_type": "code",
   "execution_count": 50,
   "metadata": {},
   "outputs": [
    {
     "name": "stdout",
     "output_type": "stream",
     "text": [
      "Shape of Training Data (5841, 269)\n",
      "Shape of Testing Data (1948, 269)\n",
      "Response Rate in Training Data 2.36503300617288\n",
      "Response Rate in Testing Data 2.363172766865435\n"
     ]
    }
   ],
   "source": [
    "print(\"Shape of Training Data\",X_train.shape)\n",
    "print(\"Shape of Testing Data\",X_test.shape)\n",
    "print(\"Response Rate in Training Data\",y_train.mean())\n",
    "print(\"Response Rate in Testing Data\",y_test.mean())"
   ]
  },
  {
   "cell_type": "markdown",
   "metadata": {},
   "source": [
    "# Model Building"
   ]
  },
  {
   "cell_type": "markdown",
   "metadata": {},
   "source": [
    "## LinearRegression model"
   ]
  },
  {
   "cell_type": "code",
   "execution_count": 51,
   "metadata": {},
   "outputs": [
    {
     "data": {
      "text/plain": [
       "0.7701370063966002"
      ]
     },
     "execution_count": 51,
     "metadata": {},
     "output_type": "execute_result"
    }
   ],
   "source": [
    "\n",
    "from sklearn.linear_model import LinearRegression\n",
    "linear_model = LinearRegression()\n",
    "\n",
    "# train the model\n",
    "linear_model.fit(X_train,y_train)\n",
    "\n",
    "# vlidate the model\n",
    "linear_predict = linear_model.predict(X_test)\n",
    "\n",
    "# check the performance of the Linear Regrssin model\n",
    "\n",
    "r2_score(y_test,linear_predict)\n",
    "\n",
    "# 0.466, 0.660, 0.683"
   ]
  },
  {
   "cell_type": "code",
   "execution_count": 52,
   "metadata": {},
   "outputs": [],
   "source": [
    "from sklearn.metrics import r2_score, mean_absolute_error, mean_squared_error\n",
    "\n",
    "from sklearn.linear_model import ElasticNet\n",
    "from sklearn.ensemble import RandomForestRegressor\n",
    "from sklearn.svm import SVR\n",
    "from xgboost import XGBRegressor"
   ]
  },
  {
   "cell_type": "code",
   "execution_count": 53,
   "metadata": {},
   "outputs": [
    {
     "name": "stdout",
     "output_type": "stream",
     "text": [
      "MAE: 0.13034109264032054\n",
      "MSE: 0.02800951461010932\n",
      "RMSE: 0.16736043322753835\n",
      "R2 Score: -0.00012356222215936796\n"
     ]
    }
   ],
   "source": [
    "from sklearn.linear_model import ElasticNet\n",
    "\n",
    "elastic_net = ElasticNet()\n",
    "elastic_net.fit(X_train, y_train)\n",
    "predictions = elastic_net.predict(X_test)\n",
    "\n",
    "\n",
    "\n",
    "\n",
    "def evaluation(y, predictions):\n",
    "    mae = mean_absolute_error(y, predictions)\n",
    "    mse = mean_squared_error(y, predictions)\n",
    "    rmse = np.sqrt(mean_squared_error(y, predictions))\n",
    "    r_squared = r2_score(y, predictions)\n",
    "    return mae, mse, rmse, r_squared\n",
    "\n",
    "\n",
    "\n",
    "mae, mse, rmse, r_squared = evaluation(y_test, predictions)\n",
    "print(\"MAE:\", mae)\n",
    "print(\"MSE:\", mse)\n",
    "print(\"RMSE:\", rmse)\n",
    "print(\"R2 Score:\", r_squared)\n",
    "# print(\"-\"*30)\n",
    "# rmse_cross_val = rmse_cv(elastic_net)\n",
    "# print(\"RMSE Cross-Validation:\", rmse_cross_val)\n",
    "\n",
    "# new_row = {\"Model\": \"ElasticNet\",\"MAE\": mae, \"MSE\": mse, \"RMSE\": rmse, \"R2 Score\": r_squared, \"RMSE (Cross-Validation)\": rmse_cross_val}\n",
    "# models = models.append(new_row, ignore_index=True)"
   ]
  },
  {
   "cell_type": "markdown",
   "metadata": {},
   "source": [
    "## RandomForest model"
   ]
  },
  {
   "cell_type": "code",
   "execution_count": 59,
   "metadata": {},
   "outputs": [
    {
     "name": "stdout",
     "output_type": "stream",
     "text": [
      "MAE: 0.04514211059708816\n",
      "MSE: 0.004249881009302004\n",
      "RMSE: 0.06519111142864496\n",
      "R2 Score: 0.8482513462582693\n",
      "train score 0.9675073640643495\n",
      "------------------------------\n",
      "validate score 0.8482513462582693\n"
     ]
    }
   ],
   "source": [
    "random_forest = RandomForestRegressor(n_estimators=189)\n",
    "random_forest.fit(X_train, y_train)\n",
    "predictions = random_forest.predict(X_test)\n",
    "\n",
    "mae, mse, rmse, r_squared = evaluation(y_test, predictions)\n",
    "print(\"MAE:\", mae)\n",
    "print(\"MSE:\", mse)\n",
    "print(\"RMSE:\", rmse)\n",
    "print(\"R2 Score:\", r_squared)\n",
    "print(\"train score\",random_forest.score(X_train,y_train))\n",
    "print(\"-\"*30)\n",
    "print(\"validate score\",random_forest.score(X_test,y_test))\n",
    "\n",
    "# 0.7539195487111798"
   ]
  },
  {
   "cell_type": "markdown",
   "metadata": {},
   "source": [
    "## XGBRegressor model"
   ]
  },
  {
   "cell_type": "code",
   "execution_count": 58,
   "metadata": {},
   "outputs": [
    {
     "name": "stdout",
     "output_type": "stream",
     "text": [
      "MAE: 0.0425782311237775\n",
      "MSE: 0.0035848652498573367\n",
      "RMSE: 0.05987374424451286\n",
      "R2 Score: 0.871996774893067\n",
      "validate score 0.871996774893067\n",
      "------------------------------\n",
      "train score 0.9351909192063534\n"
     ]
    }
   ],
   "source": [
    "xgb = XGBRegressor(n_estimators=1000, learning_rate=0.01)\n",
    "xgb.fit(X_train, y_train)\n",
    "predictions = xgb.predict(X_test)\n",
    "\n",
    "mae, mse, rmse, r_squared = evaluation(y_test, predictions)\n",
    "print(\"MAE:\", mae)\n",
    "print(\"MSE:\", mse)\n",
    "print(\"RMSE:\", rmse)\n",
    "print(\"R2 Score:\", r_squared)\n",
    "print(\"validate score\",xgb.score(X_test,y_test))\n",
    "print(\"-\"*30)\n",
    "print(\"train score\",xgb.score(X_train,y_train))\n",
    "\n",
    "\n",
    "# MAE: 40.221019288105055,MSE: 89365.30760632151,RMSE: 298.94030776447914,R2 Score: -3.1183823471835277\n",
    "# MAE: 0.06275539603832402,MSE: 0.007064704539339485,RMSE: 0.0840517967644921,R2 Score: 0.7719566613353094, 0.7809523494701403, 0.7951"
   ]
  },
  {
   "cell_type": "markdown",
   "metadata": {},
   "source": [
    "## SVR model"
   ]
  },
  {
   "cell_type": "code",
   "execution_count": 54,
   "metadata": {},
   "outputs": [
    {
     "name": "stdout",
     "output_type": "stream",
     "text": [
      "MAE: 0.06135414941432243\n",
      "MSE: 0.006113657040472437\n",
      "RMSE: 0.07818987812033242\n",
      "R2 Score: 0.78170230571168\n",
      "validate score 0.78170230571168\n",
      "------------------------------\n",
      "train score 0.8054687052091203\n"
     ]
    }
   ],
   "source": [
    "svr = SVR()\n",
    "svr.fit(X_train, y_train)\n",
    "predictions = svr.predict(X_test)\n",
    "\n",
    "mae, mse, rmse, r_squared = evaluation(y_test, predictions)\n",
    "print(\"MAE:\", mae)\n",
    "print(\"MSE:\", mse)\n",
    "print(\"RMSE:\", rmse)\n",
    "print(\"R2 Score:\", r_squared)\n",
    "print(\"validate score\",svr.score(X_test,y_test))\n",
    "print(\"-\"*30)\n",
    "print(\"train score\",svr.score(X_train,y_train))\n",
    "\n",
    "\n",
    "# MAE: 0.0.734276126084434814,MSE: 0.018149088024091638,RMSE: 0.0102722993176292,R2 Score: 0.6644509064758184, 0.7015,0.7358526737107199\n"
   ]
  },
  {
   "cell_type": "markdown",
   "metadata": {},
   "source": [
    "# LightGBM model"
   ]
  },
  {
   "cell_type": "code",
   "execution_count": 55,
   "metadata": {},
   "outputs": [
    {
     "name": "stdout",
     "output_type": "stream",
     "text": [
      "[LightGBM] [Warning] Auto-choosing col-wise multi-threading, the overhead of testing was 0.023601 seconds.\n",
      "You can set `force_col_wise=true` to remove the overhead.\n",
      "[LightGBM] [Info] Total Bins 68595\n",
      "[LightGBM] [Info] Number of data points in the train set: 5841, number of used features: 269\n",
      "[LightGBM] [Info] Start training from score 2.365033\n",
      "MAE: 0.06135414941432243\n",
      "MSE: 0.006113657040472437\n",
      "RMSE: 0.07818987812033242\n",
      "R2 Score: 0.78170230571168\n"
     ]
    }
   ],
   "source": [
    "import lightgbm as lgb\n",
    "\n",
    "# Define the params for gbm\n",
    "params = {\n",
    "    'objective': 'regression',\n",
    "    'metric': 'mse',\n",
    "    'lambda_l2':0.24\n",
    "    # Add other parameters as per your requirement\n",
    "}\n",
    "\n",
    "# create lightgbm train and test\n",
    "train_data = lgb.Dataset(X_train, label=y_train)\n",
    "test_data = lgb.Dataset(X_test, label=y_test)\n",
    "\n",
    "# train the gbm\n",
    "model = lgb.train(params, train_data, num_boost_round=100)\n",
    "\n",
    "# Make prediction\n",
    "y_pred = model.predict(X_test)\n",
    "\n",
    "\n",
    "mae, mse, rmse, r_squared = evaluation(y_test, predictions)\n",
    "print(\"MAE:\", mae)\n",
    "print(\"MSE:\", mse)\n",
    "print(\"RMSE:\", rmse)\n",
    "print(\"R2 Score:\", r_squared)\n",
    "# MAE: 0.06159028696466234,MSE: 0.00699941289600708,RMSE: 0.08366249396239082,R2 Score: 0.7740642263791857"
   ]
  },
  {
   "cell_type": "markdown",
   "metadata": {},
   "source": [
    "# KNN model"
   ]
  },
  {
   "cell_type": "code",
   "execution_count": 56,
   "metadata": {},
   "outputs": [
    {
     "name": "stdout",
     "output_type": "stream",
     "text": [
      "MAE: 0.05567936273440749\n",
      "MSE: 0.006625193128646831\n",
      "RMSE: 0.08139528935169917\n",
      "R2 Score: 0.7634371089800839\n"
     ]
    }
   ],
   "source": [
    "from sklearn.neighbors import KNeighborsRegressor\n",
    "# Create and train the KNN regression model\n",
    "k = 4  # Number of neighbors\n",
    "knn = KNeighborsRegressor(n_neighbors=k)\n",
    "knn.fit(X_train, y_train)\n",
    "\n",
    "y_pred = knn.predict(X_test)\n",
    "\n",
    "mae, mse, rmse, r_squared = evaluation(y_test, y_pred)\n",
    "print(\"MAE:\", mae)\n",
    "print(\"MSE:\", mse)\n",
    "print(\"RMSE:\", rmse)\n",
    "print(\"R2 Score:\", r_squared)\n"
   ]
  },
  {
   "cell_type": "code",
   "execution_count": null,
   "metadata": {},
   "outputs": [],
   "source": []
  },
  {
   "cell_type": "code",
   "execution_count": null,
   "metadata": {},
   "outputs": [],
   "source": []
  }
 ],
 "metadata": {
  "kernelspec": {
   "display_name": "base",
   "language": "python",
   "name": "python3"
  },
  "language_info": {
   "codemirror_mode": {
    "name": "ipython",
    "version": 3
   },
   "file_extension": ".py",
   "mimetype": "text/x-python",
   "name": "python",
   "nbconvert_exporter": "python",
   "pygments_lexer": "ipython3",
   "version": "3.9.12"
  },
  "orig_nbformat": 4
 },
 "nbformat": 4,
 "nbformat_minor": 2
}
